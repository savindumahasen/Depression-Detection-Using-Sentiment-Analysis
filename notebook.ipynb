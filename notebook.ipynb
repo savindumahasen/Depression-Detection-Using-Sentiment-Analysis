{
 "cells": [
  {
   "cell_type": "markdown",
   "id": "0c5e5733-4a3e-40ce-a245-ce684b7fa008",
   "metadata": {},
   "source": [
    "# Depression Detection Using NLP"
   ]
  },
  {
   "cell_type": "code",
   "execution_count": 1,
   "id": "e2a8cc83-df0c-4ef9-b1ca-2a6d8598ac61",
   "metadata": {},
   "outputs": [],
   "source": [
    "import pandas as pd\n",
    "import numpy as np\n",
    "import matplotlib.pyplot as plt"
   ]
  },
  {
   "cell_type": "code",
   "execution_count": null,
   "id": "6ac6c2e4-11c1-4747-bf82-eac4c4618034",
   "metadata": {},
   "outputs": [],
   "source": []
  }
 ],
 "metadata": {
  "kernelspec": {
   "display_name": "Python 3 (ipykernel)",
   "language": "python",
   "name": "python3"
  },
  "language_info": {
   "codemirror_mode": {
    "name": "ipython",
    "version": 3
   },
   "file_extension": ".py",
   "mimetype": "text/x-python",
   "name": "python",
   "nbconvert_exporter": "python",
   "pygments_lexer": "ipython3",
   "version": "3.12.1"
  }
 },
 "nbformat": 4,
 "nbformat_minor": 5
}
