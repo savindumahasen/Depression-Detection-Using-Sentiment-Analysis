{
  "nbformat": 4,
  "nbformat_minor": 0,
  "metadata": {
    "colab": {
      "provenance": [],
      "gpuType": "T4",
      "authorship_tag": "ABX9TyN6DN7LrIw0mK5uSQQ3cSvi",
      "include_colab_link": true
    },
    "kernelspec": {
      "name": "python3",
      "display_name": "Python 3"
    },
    "language_info": {
      "name": "python"
    },
    "accelerator": "GPU"
  },
  "cells": [
    {
      "cell_type": "markdown",
      "metadata": {
        "id": "view-in-github",
        "colab_type": "text"
      },
      "source": [
        "<a href=\"https://colab.research.google.com/github/savindumahasen/Depression-Detection-Using-Sentiment-Analysis/blob/main/DepressionDetectionUsingNLP.ipynb\" target=\"_parent\"><img src=\"https://colab.research.google.com/assets/colab-badge.svg\" alt=\"Open In Colab\"/></a>"
      ]
    },
    {
      "cell_type": "code",
      "execution_count": 5,
      "metadata": {
        "id": "wlfaOzXJx7sv"
      },
      "outputs": [],
      "source": [
        "## import the main libraries\n",
        "import pandas as pd\n",
        "import numpy as np\n",
        "import matplotlib.pyplot as plt"
      ]
    },
    {
      "cell_type": "code",
      "source": [
        "## Import dataset and read that dataset"
      ],
      "metadata": {
        "id": "ODAHrnwyNee7"
      },
      "execution_count": 2,
      "outputs": []
    },
    {
      "cell_type": "code",
      "source": [
        "#dataset=pd.read_csv(\"dataset.csv\", encoding=\"latin-1\")\n",
        "#dataset.head()"
      ],
      "metadata": {
        "id": "YCToUDjHN4jY"
      },
      "execution_count": 4,
      "outputs": []
    },
    {
      "cell_type": "code",
      "source": [],
      "metadata": {
        "id": "H895wG3yOCke"
      },
      "execution_count": null,
      "outputs": []
    }
  ]
}