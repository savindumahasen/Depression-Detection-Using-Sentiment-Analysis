{
 "cells": [
  {
   "cell_type": "markdown",
   "id": "0c5e5733-4a3e-40ce-a245-ce684b7fa008",
   "metadata": {},
   "source": [
    "# Depression Detection Using NLP"
   ]
  },
  {
   "cell_type": "code",
   "execution_count": 1,
   "id": "e2a8cc83-df0c-4ef9-b1ca-2a6d8598ac61",
   "metadata": {},
   "outputs": [],
   "source": [
    "import pandas as pd\n",
    "import numpy as np\n",
    "import matplotlib.pyplot as plt"
   ]
  },
  {
   "cell_type": "code",
   "execution_count": 2,
   "id": "6ac6c2e4-11c1-4747-bf82-eac4c4618034",
   "metadata": {},
   "outputs": [],
   "source": [
    "## Import dataset and read that dataset"
   ]
  },
  {
   "cell_type": "code",
   "execution_count": 3,
   "id": "02ae95f9-be03-4e71-bdb9-c68476b8d2cf",
   "metadata": {},
   "outputs": [
    {
     "data": {
      "text/html": [
       "<div>\n",
       "<style scoped>\n",
       "    .dataframe tbody tr th:only-of-type {\n",
       "        vertical-align: middle;\n",
       "    }\n",
       "\n",
       "    .dataframe tbody tr th {\n",
       "        vertical-align: top;\n",
       "    }\n",
       "\n",
       "    .dataframe thead th {\n",
       "        text-align: right;\n",
       "    }\n",
       "</style>\n",
       "<table border=\"1\" class=\"dataframe\">\n",
       "  <thead>\n",
       "    <tr style=\"text-align: right;\">\n",
       "      <th></th>\n",
       "      <th>Unnamed: 0</th>\n",
       "      <th>statement</th>\n",
       "      <th>status</th>\n",
       "    </tr>\n",
       "  </thead>\n",
       "  <tbody>\n",
       "    <tr>\n",
       "      <th>0</th>\n",
       "      <td>0</td>\n",
       "      <td>oh my gosh</td>\n",
       "      <td>Anxiety</td>\n",
       "    </tr>\n",
       "    <tr>\n",
       "      <th>1</th>\n",
       "      <td>1</td>\n",
       "      <td>trouble sleeping, confused mind, restless hear...</td>\n",
       "      <td>Anxiety</td>\n",
       "    </tr>\n",
       "    <tr>\n",
       "      <th>2</th>\n",
       "      <td>2</td>\n",
       "      <td>All wrong, back off dear, forward doubt. Stay ...</td>\n",
       "      <td>Anxiety</td>\n",
       "    </tr>\n",
       "    <tr>\n",
       "      <th>3</th>\n",
       "      <td>3</td>\n",
       "      <td>I've shifted my focus to something else but I'...</td>\n",
       "      <td>Anxiety</td>\n",
       "    </tr>\n",
       "    <tr>\n",
       "      <th>4</th>\n",
       "      <td>4</td>\n",
       "      <td>I'm restless and restless, it's been a month n...</td>\n",
       "      <td>Anxiety</td>\n",
       "    </tr>\n",
       "  </tbody>\n",
       "</table>\n",
       "</div>"
      ],
      "text/plain": [
       "   Unnamed: 0                                          statement   status\n",
       "0           0                                         oh my gosh  Anxiety\n",
       "1           1  trouble sleeping, confused mind, restless hear...  Anxiety\n",
       "2           2  All wrong, back off dear, forward doubt. Stay ...  Anxiety\n",
       "3           3  I've shifted my focus to something else but I'...  Anxiety\n",
       "4           4  I'm restless and restless, it's been a month n...  Anxiety"
      ]
     },
     "execution_count": 3,
     "metadata": {},
     "output_type": "execute_result"
    }
   ],
   "source": [
    "dataset=pd.read_csv(\"dataset.csv\", encoding=\"latin-1\")\n",
    "dataset.head()"
   ]
  },
  {
   "cell_type": "code",
   "execution_count": 4,
   "id": "bb0f3a7b-48e4-4da5-a829-78e1d7bd43c2",
   "metadata": {},
   "outputs": [],
   "source": [
    "## get the information of dataset"
   ]
  },
  {
   "cell_type": "code",
   "execution_count": 5,
   "id": "8dd15d4e-f8fa-490e-b6be-a136d5951915",
   "metadata": {},
   "outputs": [
    {
     "name": "stdout",
     "output_type": "stream",
     "text": [
      "<class 'pandas.core.frame.DataFrame'>\n",
      "RangeIndex: 53043 entries, 0 to 53042\n",
      "Data columns (total 3 columns):\n",
      " #   Column      Non-Null Count  Dtype \n",
      "---  ------      --------------  ----- \n",
      " 0   Unnamed: 0  53043 non-null  int64 \n",
      " 1   statement   52681 non-null  object\n",
      " 2   status      53043 non-null  object\n",
      "dtypes: int64(1), object(2)\n",
      "memory usage: 1.2+ MB\n"
     ]
    }
   ],
   "source": [
    "dataset.info()"
   ]
  },
  {
   "cell_type": "code",
   "execution_count": 6,
   "id": "63d67607-6c0d-4741-8884-88db00d95aee",
   "metadata": {},
   "outputs": [],
   "source": [
    "## check the null values of the dataset"
   ]
  },
  {
   "cell_type": "code",
   "execution_count": 7,
   "id": "1c05ab01-cedd-4af4-9fbc-077419937cda",
   "metadata": {},
   "outputs": [
    {
     "data": {
      "text/plain": [
       "Unnamed: 0      0\n",
       "statement     362\n",
       "status          0\n",
       "dtype: int64"
      ]
     },
     "execution_count": 7,
     "metadata": {},
     "output_type": "execute_result"
    }
   ],
   "source": [
    "dataset.isnull().sum()"
   ]
  },
  {
   "cell_type": "code",
   "execution_count": 8,
   "id": "853f33f7-e096-41d1-9705-1d2b2596ab51",
   "metadata": {},
   "outputs": [],
   "source": [
    "## Split the whole dataset into  train and test set"
   ]
  },
  {
   "cell_type": "code",
   "execution_count": 9,
   "id": "a624e2b5-9224-4002-b5b1-55882b226547",
   "metadata": {},
   "outputs": [],
   "source": [
    "from sklearn.model_selection import train_test_split\n",
    "trainset, testset=train_test_split(dataset, test_size=0.2, random_state=42)"
   ]
  },
  {
   "cell_type": "code",
   "execution_count": 10,
   "id": "fb3411f6-4af4-4b69-8a88-915d67d6a34f",
   "metadata": {},
   "outputs": [
    {
     "data": {
      "text/plain": [
       "((42434, 3), (10609, 3))"
      ]
     },
     "execution_count": 10,
     "metadata": {},
     "output_type": "execute_result"
    }
   ],
   "source": [
    "trainset.shape, testset.shape"
   ]
  },
  {
   "cell_type": "code",
   "execution_count": 11,
   "id": "2dcea2ef-10c1-472f-9bda-1c8678fcad45",
   "metadata": {},
   "outputs": [
    {
     "data": {
      "text/html": [
       "<div>\n",
       "<style scoped>\n",
       "    .dataframe tbody tr th:only-of-type {\n",
       "        vertical-align: middle;\n",
       "    }\n",
       "\n",
       "    .dataframe tbody tr th {\n",
       "        vertical-align: top;\n",
       "    }\n",
       "\n",
       "    .dataframe thead th {\n",
       "        text-align: right;\n",
       "    }\n",
       "</style>\n",
       "<table border=\"1\" class=\"dataframe\">\n",
       "  <thead>\n",
       "    <tr style=\"text-align: right;\">\n",
       "      <th></th>\n",
       "      <th>Unnamed: 0</th>\n",
       "      <th>statement</th>\n",
       "      <th>status</th>\n",
       "    </tr>\n",
       "  </thead>\n",
       "  <tbody>\n",
       "    <tr>\n",
       "      <th>52275</th>\n",
       "      <td>52275</td>\n",
       "      <td>How do you make eye contact with people? I rea...</td>\n",
       "      <td>Anxiety</td>\n",
       "    </tr>\n",
       "    <tr>\n",
       "      <th>49099</th>\n",
       "      <td>49099</td>\n",
       "      <td>Balancing school, social life and work How to ...</td>\n",
       "      <td>Stress</td>\n",
       "    </tr>\n",
       "    <tr>\n",
       "      <th>10636</th>\n",
       "      <td>10636</td>\n",
       "      <td>weed made me motivated and happy again. motivated</td>\n",
       "      <td>Depression</td>\n",
       "    </tr>\n",
       "    <tr>\n",
       "      <th>23796</th>\n",
       "      <td>23796</td>\n",
       "      <td>24/7 i cringe at my past thoughts omg its so p...</td>\n",
       "      <td>Suicidal</td>\n",
       "    </tr>\n",
       "    <tr>\n",
       "      <th>48863</th>\n",
       "      <td>48863</td>\n",
       "      <td>NaN</td>\n",
       "      <td>Stress</td>\n",
       "    </tr>\n",
       "  </tbody>\n",
       "</table>\n",
       "</div>"
      ],
      "text/plain": [
       "       Unnamed: 0                                          statement  \\\n",
       "52275       52275  How do you make eye contact with people? I rea...   \n",
       "49099       49099  Balancing school, social life and work How to ...   \n",
       "10636       10636  weed made me motivated and happy again. motivated   \n",
       "23796       23796  24/7 i cringe at my past thoughts omg its so p...   \n",
       "48863       48863                                                NaN   \n",
       "\n",
       "           status  \n",
       "52275     Anxiety  \n",
       "49099      Stress  \n",
       "10636  Depression  \n",
       "23796    Suicidal  \n",
       "48863      Stress  "
      ]
     },
     "execution_count": 11,
     "metadata": {},
     "output_type": "execute_result"
    }
   ],
   "source": [
    "trainset.head()"
   ]
  },
  {
   "cell_type": "code",
   "execution_count": 12,
   "id": "a6b3cbc6-fef1-4b0a-82a7-a028cfa00b5a",
   "metadata": {},
   "outputs": [
    {
     "data": {
      "text/html": [
       "<div>\n",
       "<style scoped>\n",
       "    .dataframe tbody tr th:only-of-type {\n",
       "        vertical-align: middle;\n",
       "    }\n",
       "\n",
       "    .dataframe tbody tr th {\n",
       "        vertical-align: top;\n",
       "    }\n",
       "\n",
       "    .dataframe thead th {\n",
       "        text-align: right;\n",
       "    }\n",
       "</style>\n",
       "<table border=\"1\" class=\"dataframe\">\n",
       "  <thead>\n",
       "    <tr style=\"text-align: right;\">\n",
       "      <th></th>\n",
       "      <th>Unnamed: 0</th>\n",
       "      <th>statement</th>\n",
       "      <th>status</th>\n",
       "    </tr>\n",
       "  </thead>\n",
       "  <tbody>\n",
       "    <tr>\n",
       "      <th>22261</th>\n",
       "      <td>22261</td>\n",
       "      <td>Just as the the title says. I feel like one is...</td>\n",
       "      <td>Depression</td>\n",
       "    </tr>\n",
       "    <tr>\n",
       "      <th>41400</th>\n",
       "      <td>41400</td>\n",
       "      <td>a blackened sky encroached tugging behind it m...</td>\n",
       "      <td>Depression</td>\n",
       "    </tr>\n",
       "    <tr>\n",
       "      <th>20065</th>\n",
       "      <td>20065</td>\n",
       "      <td>It gives you insomnia, which in turn makes you...</td>\n",
       "      <td>Depression</td>\n",
       "    </tr>\n",
       "    <tr>\n",
       "      <th>30036</th>\n",
       "      <td>30036</td>\n",
       "      <td>Hello all, I'm a new submitter to this channel...</td>\n",
       "      <td>Normal</td>\n",
       "    </tr>\n",
       "    <tr>\n",
       "      <th>780</th>\n",
       "      <td>780</td>\n",
       "      <td>Thank God the CB is over for Eid</td>\n",
       "      <td>Normal</td>\n",
       "    </tr>\n",
       "  </tbody>\n",
       "</table>\n",
       "</div>"
      ],
      "text/plain": [
       "       Unnamed: 0                                          statement  \\\n",
       "22261       22261  Just as the the title says. I feel like one is...   \n",
       "41400       41400  a blackened sky encroached tugging behind it m...   \n",
       "20065       20065  It gives you insomnia, which in turn makes you...   \n",
       "30036       30036  Hello all, I'm a new submitter to this channel...   \n",
       "780           780                   Thank God the CB is over for Eid   \n",
       "\n",
       "           status  \n",
       "22261  Depression  \n",
       "41400  Depression  \n",
       "20065  Depression  \n",
       "30036      Normal  \n",
       "780        Normal  "
      ]
     },
     "execution_count": 12,
     "metadata": {},
     "output_type": "execute_result"
    }
   ],
   "source": [
    "testset.head()"
   ]
  },
  {
   "cell_type": "markdown",
   "id": "23b37602-870e-481a-84d1-f04ab822b68e",
   "metadata": {},
   "source": [
    "## Data Preprocessing"
   ]
  },
  {
   "cell_type": "code",
   "execution_count": 13,
   "id": "79de59ba-d127-4f0a-a12d-399a932c175d",
   "metadata": {},
   "outputs": [],
   "source": [
    "## Drop the unnecessary columns"
   ]
  },
  {
   "cell_type": "code",
   "execution_count": 14,
   "id": "113f232b-d22f-41c7-b189-74a79050c963",
   "metadata": {},
   "outputs": [
    {
     "data": {
      "text/html": [
       "<div>\n",
       "<style scoped>\n",
       "    .dataframe tbody tr th:only-of-type {\n",
       "        vertical-align: middle;\n",
       "    }\n",
       "\n",
       "    .dataframe tbody tr th {\n",
       "        vertical-align: top;\n",
       "    }\n",
       "\n",
       "    .dataframe thead th {\n",
       "        text-align: right;\n",
       "    }\n",
       "</style>\n",
       "<table border=\"1\" class=\"dataframe\">\n",
       "  <thead>\n",
       "    <tr style=\"text-align: right;\">\n",
       "      <th></th>\n",
       "      <th>statement</th>\n",
       "      <th>status</th>\n",
       "    </tr>\n",
       "  </thead>\n",
       "  <tbody>\n",
       "    <tr>\n",
       "      <th>52275</th>\n",
       "      <td>How do you make eye contact with people? I rea...</td>\n",
       "      <td>Anxiety</td>\n",
       "    </tr>\n",
       "    <tr>\n",
       "      <th>49099</th>\n",
       "      <td>Balancing school, social life and work How to ...</td>\n",
       "      <td>Stress</td>\n",
       "    </tr>\n",
       "    <tr>\n",
       "      <th>10636</th>\n",
       "      <td>weed made me motivated and happy again. motivated</td>\n",
       "      <td>Depression</td>\n",
       "    </tr>\n",
       "    <tr>\n",
       "      <th>23796</th>\n",
       "      <td>24/7 i cringe at my past thoughts omg its so p...</td>\n",
       "      <td>Suicidal</td>\n",
       "    </tr>\n",
       "    <tr>\n",
       "      <th>48863</th>\n",
       "      <td>NaN</td>\n",
       "      <td>Stress</td>\n",
       "    </tr>\n",
       "  </tbody>\n",
       "</table>\n",
       "</div>"
      ],
      "text/plain": [
       "                                               statement      status\n",
       "52275  How do you make eye contact with people? I rea...     Anxiety\n",
       "49099  Balancing school, social life and work How to ...      Stress\n",
       "10636  weed made me motivated and happy again. motivated  Depression\n",
       "23796  24/7 i cringe at my past thoughts omg its so p...    Suicidal\n",
       "48863                                                NaN      Stress"
      ]
     },
     "execution_count": 14,
     "metadata": {},
     "output_type": "execute_result"
    }
   ],
   "source": [
    "new_train_set=trainset.drop('Unnamed: 0', axis=1)\n",
    "new_train_set.head()"
   ]
  },
  {
   "cell_type": "code",
   "execution_count": 15,
   "id": "164b3401-f4fd-4ecc-ae1e-9d637afc485a",
   "metadata": {},
   "outputs": [
    {
     "name": "stdout",
     "output_type": "stream",
     "text": [
      "<class 'pandas.core.frame.DataFrame'>\n",
      "Index: 42434 entries, 52275 to 15795\n",
      "Data columns (total 2 columns):\n",
      " #   Column     Non-Null Count  Dtype \n",
      "---  ------     --------------  ----- \n",
      " 0   statement  42157 non-null  object\n",
      " 1   status     42434 non-null  object\n",
      "dtypes: object(2)\n",
      "memory usage: 994.5+ KB\n"
     ]
    }
   ],
   "source": [
    "new_train_set.info()"
   ]
  },
  {
   "cell_type": "code",
   "execution_count": 16,
   "id": "35ad0b81-183b-4aa3-a812-0461c899eaca",
   "metadata": {},
   "outputs": [],
   "source": [
    "##  check value counts of statement"
   ]
  },
  {
   "cell_type": "code",
   "execution_count": 17,
   "id": "d0bd1af0-e03e-4aef-96fc-20632b87aa1d",
   "metadata": {},
   "outputs": [
    {
     "data": {
      "text/plain": [
       "status\n",
       "Normal                  13024\n",
       "Depression              12304\n",
       "Suicidal                 8635\n",
       "Anxiety                  3109\n",
       "Bipolar                  2297\n",
       "Stress                   2112\n",
       "Personality disorder      953\n",
       "Name: count, dtype: int64"
      ]
     },
     "execution_count": 17,
     "metadata": {},
     "output_type": "execute_result"
    }
   ],
   "source": [
    "new_train_set['status'].value_counts()"
   ]
  },
  {
   "cell_type": "code",
   "execution_count": 18,
   "id": "544912b7-0136-4771-85f2-bf0331aba1a0",
   "metadata": {},
   "outputs": [
    {
     "name": "stdout",
     "output_type": "stream",
     "text": [
      "<class 'pandas.core.series.Series'>\n",
      "Index: 42434 entries, 52275 to 15795\n",
      "Series name: statement\n",
      "Non-Null Count  Dtype \n",
      "--------------  ----- \n",
      "42157 non-null  object\n",
      "dtypes: object(1)\n",
      "memory usage: 663.0+ KB\n"
     ]
    }
   ],
   "source": [
    "new_train_set['statement'].info()"
   ]
  },
  {
   "cell_type": "code",
   "execution_count": 19,
   "id": "8f09d293-6d67-48bd-8695-915270e4fe43",
   "metadata": {},
   "outputs": [],
   "source": [
    "## Fill the missing values"
   ]
  },
  {
   "cell_type": "code",
   "execution_count": 20,
   "id": "3a7d7c9f-780f-4e59-9fba-e3eb7d1b2b59",
   "metadata": {},
   "outputs": [
    {
     "data": {
      "text/plain": [
       "'what do you mean?'"
      ]
     },
     "execution_count": 20,
     "metadata": {},
     "output_type": "execute_result"
    }
   ],
   "source": [
    "statement_column=new_train_set['statement'].mode()[0]\n",
    "statement_column"
   ]
  },
  {
   "cell_type": "code",
   "execution_count": 21,
   "id": "759d5fca-6372-4b54-8141-a6a97873697f",
   "metadata": {},
   "outputs": [
    {
     "data": {
      "text/plain": [
       "52275    How do you make eye contact with people? I rea...\n",
       "49099    Balancing school, social life and work How to ...\n",
       "10636    weed made me motivated and happy again. motivated\n",
       "23796    24/7 i cringe at my past thoughts omg its so p...\n",
       "48863                                    what do you mean?\n",
       "Name: statement, dtype: object"
      ]
     },
     "execution_count": 21,
     "metadata": {},
     "output_type": "execute_result"
    }
   ],
   "source": [
    "new_train_set['statement']=new_train_set['statement'].fillna(statement_column)\n",
    "new_train_set['statement'].head()"
   ]
  },
  {
   "cell_type": "code",
   "execution_count": 22,
   "id": "fd6b3d87-9fb5-4d80-99f5-47a4da9a888f",
   "metadata": {},
   "outputs": [],
   "source": [
    "##  check the null values of statement column after filling  the null values"
   ]
  },
  {
   "cell_type": "code",
   "execution_count": 23,
   "id": "0fb3ac4b-d76b-4512-ad37-f73ee7e345b4",
   "metadata": {},
   "outputs": [
    {
     "data": {
      "text/plain": [
       "0"
      ]
     },
     "execution_count": 23,
     "metadata": {},
     "output_type": "execute_result"
    }
   ],
   "source": [
    "new_train_set['statement'].isnull().sum()"
   ]
  },
  {
   "cell_type": "code",
   "execution_count": 24,
   "id": "0a7b6a34-b0bc-4d3b-b9a1-bf42244c47c1",
   "metadata": {},
   "outputs": [
    {
     "name": "stdout",
     "output_type": "stream",
     "text": [
      "<class 'pandas.core.frame.DataFrame'>\n",
      "Index: 42434 entries, 52275 to 15795\n",
      "Data columns (total 2 columns):\n",
      " #   Column     Non-Null Count  Dtype \n",
      "---  ------     --------------  ----- \n",
      " 0   statement  42434 non-null  object\n",
      " 1   status     42434 non-null  object\n",
      "dtypes: object(2)\n",
      "memory usage: 994.5+ KB\n"
     ]
    }
   ],
   "source": [
    "new_train_set.info()"
   ]
  },
  {
   "cell_type": "code",
   "execution_count": 25,
   "id": "7cf5ad31-ce8e-4a70-9024-cdd1dbd9b858",
   "metadata": {},
   "outputs": [],
   "source": [
    "## text preprocessing"
   ]
  },
  {
   "cell_type": "code",
   "execution_count": 26,
   "id": "1ca07025-aff6-496a-a763-e5ebd63147b4",
   "metadata": {},
   "outputs": [],
   "source": [
    "import string\n",
    "import re"
   ]
  },
  {
   "cell_type": "code",
   "execution_count": 27,
   "id": "f89b37f6-835e-4995-b721-17ee9bc24df6",
   "metadata": {},
   "outputs": [
    {
     "data": {
      "text/plain": [
       "52275    How do you make eye contact with people? I rea...\n",
       "49099    Balancing school, social life and work How to ...\n",
       "10636    weed made me motivated and happy again. motivated\n",
       "23796    24/7 i cringe at my past thoughts omg its so p...\n",
       "48863                                    what do you mean?\n",
       "Name: statement, dtype: object"
      ]
     },
     "execution_count": 27,
     "metadata": {},
     "output_type": "execute_result"
    }
   ],
   "source": [
    "new_train_set['statement'].head()"
   ]
  },
  {
   "cell_type": "code",
   "execution_count": 28,
   "id": "0ccb6b4d-45ea-4258-bd2e-0baa659d263a",
   "metadata": {},
   "outputs": [],
   "source": [
    "## convert the uppercase letters into lowercase letters"
   ]
  },
  {
   "cell_type": "code",
   "execution_count": 29,
   "id": "2b341b99-ac6f-4dc2-ba00-77931afb03f4",
   "metadata": {},
   "outputs": [],
   "source": [
    "new_train_set['statement']=new_train_set['statement'].apply(lambda x: \"  \".join(x.lower() for x in  x.split()))"
   ]
  },
  {
   "cell_type": "code",
   "execution_count": 30,
   "id": "fe820c97-4951-4acc-8250-d4e5f897717b",
   "metadata": {},
   "outputs": [
    {
     "data": {
      "text/plain": [
       "52275    how  do  you  make  eye  contact  with  people...\n",
       "49099    balancing  school,  social  life  and  work  h...\n",
       "10636    weed  made  me  motivated  and  happy  again. ...\n",
       "23796    24/7  i  cringe  at  my  past  thoughts  omg  ...\n",
       "48863                                 what  do  you  mean?\n",
       "Name: statement, dtype: object"
      ]
     },
     "execution_count": 30,
     "metadata": {},
     "output_type": "execute_result"
    }
   ],
   "source": [
    "new_train_set['statement'].head()"
   ]
  },
  {
   "cell_type": "code",
   "execution_count": 31,
   "id": "5d4d90de-d612-4e09-9623-21f6caf3bcfc",
   "metadata": {},
   "outputs": [],
   "source": [
    "## Remoe thee links"
   ]
  },
  {
   "cell_type": "code",
   "execution_count": 32,
   "id": "7c61296e-fc2e-4c59-86f4-e776ee66a072",
   "metadata": {},
   "outputs": [],
   "source": [
    "new_train_set['statement']=new_train_set['statement'].apply(lambda x:\" \".join(re.sub(r'https?:\\/\\/.*[\\r\\n]*','',x,flags=re.MULTILINE) for x in x.split()))"
   ]
  },
  {
   "cell_type": "code",
   "execution_count": 33,
   "id": "0f985919-b39b-4aae-83ce-6614b2c7d7f8",
   "metadata": {},
   "outputs": [
    {
     "data": {
      "text/plain": [
       "52275    how do you make eye contact with people? i rea...\n",
       "49099    balancing school, social life and work how to ...\n",
       "10636    weed made me motivated and happy again. motivated\n",
       "23796    24/7 i cringe at my past thoughts omg its so p...\n",
       "48863                                    what do you mean?\n",
       "Name: statement, dtype: object"
      ]
     },
     "execution_count": 33,
     "metadata": {},
     "output_type": "execute_result"
    }
   ],
   "source": [
    "new_train_set['statement'].head()"
   ]
  },
  {
   "cell_type": "code",
   "execution_count": 34,
   "id": "54f9e05d-d8a0-4f87-baf0-76ff20a8128c",
   "metadata": {},
   "outputs": [],
   "source": [
    "## Remove punctuation marks"
   ]
  },
  {
   "cell_type": "code",
   "execution_count": 35,
   "id": "9ad97a91-4213-462a-9013-5a3ffff7a661",
   "metadata": {},
   "outputs": [
    {
     "data": {
      "text/plain": [
       "'!\"#$%&\\'()*+,-./:;<=>?@[\\\\]^_`{|}~'"
      ]
     },
     "execution_count": 35,
     "metadata": {},
     "output_type": "execute_result"
    }
   ],
   "source": [
    "string.punctuation"
   ]
  },
  {
   "cell_type": "code",
   "execution_count": 36,
   "id": "5a8fa6de-3691-4ae5-a092-fc7d819e132b",
   "metadata": {},
   "outputs": [
    {
     "data": {
      "text/plain": [
       "52275    how do you make eye contact with people i real...\n",
       "49099    balancing school social life and work how to d...\n",
       "10636     weed made me motivated and happy again motivated\n",
       "23796    247 i cringe at my past thoughts omg its so pa...\n",
       "48863                                     what do you mean\n",
       "                               ...                        \n",
       "11284    i used to be a very confident cheerful person ...\n",
       "44732    spanx except i missed last week s lee and now ...\n",
       "38158    tl dr have been abused mentally and physically...\n",
       "860                           do i sell the tutorial again\n",
       "15795    i am not religious but do believe in god but t...\n",
       "Name: statement, Length: 42434, dtype: object"
      ]
     },
     "execution_count": 36,
     "metadata": {},
     "output_type": "execute_result"
    }
   ],
   "source": [
    "def remove_punctuation(text):\n",
    "    for punctuations in string.punctuation:\n",
    "        text=text.replace(punctuations,'')\n",
    "    return text\n",
    "new_train_set['statement']=new_train_set['statement'].apply(remove_punctuation)\n",
    "new_train_set['statement']"
   ]
  },
  {
   "cell_type": "code",
   "execution_count": 37,
   "id": "82f9c1b9-933a-4728-9147-e5e7ebcb57fe",
   "metadata": {},
   "outputs": [],
   "source": [
    "## remove the numbers from text"
   ]
  },
  {
   "cell_type": "code",
   "execution_count": 38,
   "id": "37290351-464e-4b6f-90fc-2f5826edff4c",
   "metadata": {},
   "outputs": [
    {
     "name": "stderr",
     "output_type": "stream",
     "text": [
      "<>:1: SyntaxWarning: invalid escape sequence '\\d'\n",
      "<>:1: SyntaxWarning: invalid escape sequence '\\d'\n",
      "C:\\Users\\THIS PC\\AppData\\Local\\Temp\\ipykernel_84928\\4162056198.py:1: SyntaxWarning: invalid escape sequence '\\d'\n",
      "  new_train_set['statement']=new_train_set['statement'].str.replace('\\d+','',regex=True)\n"
     ]
    },
    {
     "data": {
      "text/plain": [
       "52275    how do you make eye contact with people i real...\n",
       "49099    balancing school social life and work how to d...\n",
       "10636     weed made me motivated and happy again motivated\n",
       "23796     i cringe at my past thoughts omg its so painf...\n",
       "48863                                     what do you mean\n",
       "Name: statement, dtype: object"
      ]
     },
     "execution_count": 38,
     "metadata": {},
     "output_type": "execute_result"
    }
   ],
   "source": [
    "new_train_set['statement']=new_train_set['statement'].str.replace('\\d+','',regex=True)\n",
    "new_train_set['statement'].head()"
   ]
  },
  {
   "cell_type": "code",
   "execution_count": 39,
   "id": "5b7da40e-4db4-4749-a387-6abb7b250c3b",
   "metadata": {},
   "outputs": [],
   "source": [
    "## Remove stop words"
   ]
  },
  {
   "cell_type": "code",
   "execution_count": 40,
   "id": "821e1291-9df2-4b79-aabd-7786e92bf84b",
   "metadata": {},
   "outputs": [],
   "source": [
    "import nltk"
   ]
  },
  {
   "cell_type": "code",
   "execution_count": 41,
   "id": "4ccfeecd-b6f7-4f99-89d0-a6cf76a0f7fc",
   "metadata": {},
   "outputs": [],
   "source": [
    "## download the stop words"
   ]
  },
  {
   "cell_type": "code",
   "execution_count": 42,
   "id": "52c53168-342c-496e-a8f9-4c9b590e58bc",
   "metadata": {},
   "outputs": [
    {
     "name": "stderr",
     "output_type": "stream",
     "text": [
      "[nltk_data] Downloading package stopwords to model/stopwords/...\n",
      "[nltk_data]   Package stopwords is already up-to-date!\n"
     ]
    },
    {
     "data": {
      "text/plain": [
       "True"
      ]
     },
     "execution_count": 42,
     "metadata": {},
     "output_type": "execute_result"
    }
   ],
   "source": [
    "nltk.download('stopwords', download_dir=\"model/stopwords/\")"
   ]
  },
  {
   "cell_type": "code",
   "execution_count": 43,
   "id": "46acd30e-1a6f-4bed-94a1-991a993d684d",
   "metadata": {},
   "outputs": [],
   "source": [
    "## load the english language stopwords"
   ]
  },
  {
   "cell_type": "code",
   "execution_count": 44,
   "id": "48e83382-c67f-41ff-aabf-ec8b60de055d",
   "metadata": {},
   "outputs": [],
   "source": [
    "with open(\"model/stopwords/corpora/stopwords/english\", 'r') as file:\n",
    "    stopwords=file.read().splitlines()"
   ]
  },
  {
   "cell_type": "code",
   "execution_count": 45,
   "id": "8721a42a-b3b5-4745-8001-6892c6dd40df",
   "metadata": {},
   "outputs": [
    {
     "data": {
      "text/plain": [
       "['a',\n",
       " 'about',\n",
       " 'above',\n",
       " 'after',\n",
       " 'again',\n",
       " 'against',\n",
       " 'ain',\n",
       " 'all',\n",
       " 'am',\n",
       " 'an',\n",
       " 'and',\n",
       " 'any',\n",
       " 'are',\n",
       " 'aren',\n",
       " \"aren't\",\n",
       " 'as',\n",
       " 'at',\n",
       " 'be',\n",
       " 'because',\n",
       " 'been',\n",
       " 'before',\n",
       " 'being',\n",
       " 'below',\n",
       " 'between',\n",
       " 'both',\n",
       " 'but',\n",
       " 'by',\n",
       " 'can',\n",
       " 'couldn',\n",
       " \"couldn't\",\n",
       " 'd',\n",
       " 'did',\n",
       " 'didn',\n",
       " \"didn't\",\n",
       " 'do',\n",
       " 'does',\n",
       " 'doesn',\n",
       " \"doesn't\",\n",
       " 'doing',\n",
       " 'don',\n",
       " \"don't\",\n",
       " 'down',\n",
       " 'during',\n",
       " 'each',\n",
       " 'few',\n",
       " 'for',\n",
       " 'from',\n",
       " 'further',\n",
       " 'had',\n",
       " 'hadn',\n",
       " \"hadn't\",\n",
       " 'has',\n",
       " 'hasn',\n",
       " \"hasn't\",\n",
       " 'have',\n",
       " 'haven',\n",
       " \"haven't\",\n",
       " 'having',\n",
       " 'he',\n",
       " \"he'd\",\n",
       " \"he'll\",\n",
       " 'her',\n",
       " 'here',\n",
       " 'hers',\n",
       " 'herself',\n",
       " \"he's\",\n",
       " 'him',\n",
       " 'himself',\n",
       " 'his',\n",
       " 'how',\n",
       " 'i',\n",
       " \"i'd\",\n",
       " 'if',\n",
       " \"i'll\",\n",
       " \"i'm\",\n",
       " 'in',\n",
       " 'into',\n",
       " 'is',\n",
       " 'isn',\n",
       " \"isn't\",\n",
       " 'it',\n",
       " \"it'd\",\n",
       " \"it'll\",\n",
       " \"it's\",\n",
       " 'its',\n",
       " 'itself',\n",
       " \"i've\",\n",
       " 'just',\n",
       " 'll',\n",
       " 'm',\n",
       " 'ma',\n",
       " 'me',\n",
       " 'mightn',\n",
       " \"mightn't\",\n",
       " 'more',\n",
       " 'most',\n",
       " 'mustn',\n",
       " \"mustn't\",\n",
       " 'my',\n",
       " 'myself',\n",
       " 'needn',\n",
       " \"needn't\",\n",
       " 'no',\n",
       " 'nor',\n",
       " 'not',\n",
       " 'now',\n",
       " 'o',\n",
       " 'of',\n",
       " 'off',\n",
       " 'on',\n",
       " 'once',\n",
       " 'only',\n",
       " 'or',\n",
       " 'other',\n",
       " 'our',\n",
       " 'ours',\n",
       " 'ourselves',\n",
       " 'out',\n",
       " 'over',\n",
       " 'own',\n",
       " 're',\n",
       " 's',\n",
       " 'same',\n",
       " 'shan',\n",
       " \"shan't\",\n",
       " 'she',\n",
       " \"she'd\",\n",
       " \"she'll\",\n",
       " \"she's\",\n",
       " 'should',\n",
       " 'shouldn',\n",
       " \"shouldn't\",\n",
       " \"should've\",\n",
       " 'so',\n",
       " 'some',\n",
       " 'such',\n",
       " 't',\n",
       " 'than',\n",
       " 'that',\n",
       " \"that'll\",\n",
       " 'the',\n",
       " 'their',\n",
       " 'theirs',\n",
       " 'them',\n",
       " 'themselves',\n",
       " 'then',\n",
       " 'there',\n",
       " 'these',\n",
       " 'they',\n",
       " \"they'd\",\n",
       " \"they'll\",\n",
       " \"they're\",\n",
       " \"they've\",\n",
       " 'this',\n",
       " 'those',\n",
       " 'through',\n",
       " 'to',\n",
       " 'too',\n",
       " 'under',\n",
       " 'until',\n",
       " 'up',\n",
       " 've',\n",
       " 'very',\n",
       " 'was',\n",
       " 'wasn',\n",
       " \"wasn't\",\n",
       " 'we',\n",
       " \"we'd\",\n",
       " \"we'll\",\n",
       " \"we're\",\n",
       " 'were',\n",
       " 'weren',\n",
       " \"weren't\",\n",
       " \"we've\",\n",
       " 'what',\n",
       " 'when',\n",
       " 'where',\n",
       " 'which',\n",
       " 'while',\n",
       " 'who',\n",
       " 'whom',\n",
       " 'why',\n",
       " 'will',\n",
       " 'with',\n",
       " 'won',\n",
       " \"won't\",\n",
       " 'wouldn',\n",
       " \"wouldn't\",\n",
       " 'y',\n",
       " 'you',\n",
       " \"you'd\",\n",
       " \"you'll\",\n",
       " 'your',\n",
       " \"you're\",\n",
       " 'yours',\n",
       " 'yourself',\n",
       " 'yourselves',\n",
       " \"you've\"]"
      ]
     },
     "execution_count": 45,
     "metadata": {},
     "output_type": "execute_result"
    }
   ],
   "source": [
    "stopwords"
   ]
  },
  {
   "cell_type": "code",
   "execution_count": 46,
   "id": "99e6196b-5c6b-4574-94db-bfc3d7a3653d",
   "metadata": {},
   "outputs": [],
   "source": [
    "new_train_set['statement']=new_train_set['statement'].apply(lambda x:' '.join(x for x in x.split() if x not in stopwords))"
   ]
  },
  {
   "cell_type": "code",
   "execution_count": 47,
   "id": "2e443f79-4359-4548-91df-bc13f216d90d",
   "metadata": {},
   "outputs": [
    {
     "data": {
      "text/plain": [
       "52275    make eye contact people really struggle person...\n",
       "49099    balancing school social life work balance scho...\n",
       "10636                  weed made motivated happy motivated\n",
       "23796    cringe past thoughts omg painful want die badl...\n",
       "48863                                                 mean\n",
       "Name: statement, dtype: object"
      ]
     },
     "execution_count": 47,
     "metadata": {},
     "output_type": "execute_result"
    }
   ],
   "source": [
    "new_train_set['statement'].head()"
   ]
  },
  {
   "cell_type": "code",
   "execution_count": 48,
   "id": "01b97b10-d809-4245-9b99-c9fe63f0bd8b",
   "metadata": {},
   "outputs": [],
   "source": [
    "## Remove the influectional forms from text"
   ]
  },
  {
   "cell_type": "markdown",
   "id": "2e055e32-3e3e-4732-a2e2-a3c3e46126d3",
   "metadata": {},
   "source": [
    "#### Inflectional forms mean that the same word can appear in different grammatical forms. To reduce this variation, we can use stemming or lemmatization. If the text dataset is very large and speed is important, stemming is usually preferred"
   ]
  },
  {
   "cell_type": "code",
   "execution_count": 49,
   "id": "9b000011-140d-4c45-8ac9-e06121fb27af",
   "metadata": {},
   "outputs": [],
   "source": [
    "from nltk.stem import PorterStemmer\n",
    "ps=PorterStemmer()"
   ]
  },
  {
   "cell_type": "code",
   "execution_count": 50,
   "id": "039ce6b3-e5c5-4700-87da-e69928276864",
   "metadata": {},
   "outputs": [],
   "source": [
    "new_train_set['statement']=new_train_set['statement'].apply(lambda x:' '.join(ps.stem(x) for x in x.split()))"
   ]
  },
  {
   "cell_type": "code",
   "execution_count": 51,
   "id": "6bcf3413-1517-456a-be58-b5751d8e0734",
   "metadata": {},
   "outputs": [
    {
     "data": {
      "text/plain": [
       "52275    make eye contact peopl realli struggl person a...\n",
       "49099    balanc school social life work balanc school w...\n",
       "10636                          weed made motiv happi motiv\n",
       "23796    cring past thought omg pain want die badli cri...\n",
       "48863                                                 mean\n",
       "Name: statement, dtype: object"
      ]
     },
     "execution_count": 51,
     "metadata": {},
     "output_type": "execute_result"
    }
   ],
   "source": [
    "new_train_set['statement'].head()"
   ]
  },
  {
   "cell_type": "code",
   "execution_count": null,
   "id": "39d4352e-d347-4587-910d-387cf7e415e8",
   "metadata": {},
   "outputs": [],
   "source": []
  }
 ],
 "metadata": {
  "kernelspec": {
   "display_name": "Python 3 (ipykernel)",
   "language": "python",
   "name": "python3"
  },
  "language_info": {
   "codemirror_mode": {
    "name": "ipython",
    "version": 3
   },
   "file_extension": ".py",
   "mimetype": "text/x-python",
   "name": "python",
   "nbconvert_exporter": "python",
   "pygments_lexer": "ipython3",
   "version": "3.12.1"
  }
 },
 "nbformat": 4,
 "nbformat_minor": 5
}
