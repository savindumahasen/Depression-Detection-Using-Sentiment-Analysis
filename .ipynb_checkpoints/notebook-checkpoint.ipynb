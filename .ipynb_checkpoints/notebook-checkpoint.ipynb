{
 "cells": [
  {
   "cell_type": "markdown",
   "id": "0c5e5733-4a3e-40ce-a245-ce684b7fa008",
   "metadata": {},
   "source": [
    "# Depression Detection Using NLP"
   ]
  },
  {
   "cell_type": "code",
   "execution_count": 1,
   "id": "e2a8cc83-df0c-4ef9-b1ca-2a6d8598ac61",
   "metadata": {},
   "outputs": [],
   "source": [
    "import pandas as pd\n",
    "import numpy as np\n",
    "import matplotlib.pyplot as plt"
   ]
  },
  {
   "cell_type": "code",
   "execution_count": 2,
   "id": "6ac6c2e4-11c1-4747-bf82-eac4c4618034",
   "metadata": {},
   "outputs": [],
   "source": [
    "## Import dataset and read that dataset"
   ]
  },
  {
   "cell_type": "code",
   "execution_count": 3,
   "id": "02ae95f9-be03-4e71-bdb9-c68476b8d2cf",
   "metadata": {},
   "outputs": [
    {
     "data": {
      "text/html": [
       "<div>\n",
       "<style scoped>\n",
       "    .dataframe tbody tr th:only-of-type {\n",
       "        vertical-align: middle;\n",
       "    }\n",
       "\n",
       "    .dataframe tbody tr th {\n",
       "        vertical-align: top;\n",
       "    }\n",
       "\n",
       "    .dataframe thead th {\n",
       "        text-align: right;\n",
       "    }\n",
       "</style>\n",
       "<table border=\"1\" class=\"dataframe\">\n",
       "  <thead>\n",
       "    <tr style=\"text-align: right;\">\n",
       "      <th></th>\n",
       "      <th>Unnamed: 0</th>\n",
       "      <th>statement</th>\n",
       "      <th>status</th>\n",
       "    </tr>\n",
       "  </thead>\n",
       "  <tbody>\n",
       "    <tr>\n",
       "      <th>0</th>\n",
       "      <td>0</td>\n",
       "      <td>oh my gosh</td>\n",
       "      <td>Anxiety</td>\n",
       "    </tr>\n",
       "    <tr>\n",
       "      <th>1</th>\n",
       "      <td>1</td>\n",
       "      <td>trouble sleeping, confused mind, restless hear...</td>\n",
       "      <td>Anxiety</td>\n",
       "    </tr>\n",
       "    <tr>\n",
       "      <th>2</th>\n",
       "      <td>2</td>\n",
       "      <td>All wrong, back off dear, forward doubt. Stay ...</td>\n",
       "      <td>Anxiety</td>\n",
       "    </tr>\n",
       "    <tr>\n",
       "      <th>3</th>\n",
       "      <td>3</td>\n",
       "      <td>I've shifted my focus to something else but I'...</td>\n",
       "      <td>Anxiety</td>\n",
       "    </tr>\n",
       "    <tr>\n",
       "      <th>4</th>\n",
       "      <td>4</td>\n",
       "      <td>I'm restless and restless, it's been a month n...</td>\n",
       "      <td>Anxiety</td>\n",
       "    </tr>\n",
       "  </tbody>\n",
       "</table>\n",
       "</div>"
      ],
      "text/plain": [
       "   Unnamed: 0                                          statement   status\n",
       "0           0                                         oh my gosh  Anxiety\n",
       "1           1  trouble sleeping, confused mind, restless hear...  Anxiety\n",
       "2           2  All wrong, back off dear, forward doubt. Stay ...  Anxiety\n",
       "3           3  I've shifted my focus to something else but I'...  Anxiety\n",
       "4           4  I'm restless and restless, it's been a month n...  Anxiety"
      ]
     },
     "execution_count": 3,
     "metadata": {},
     "output_type": "execute_result"
    }
   ],
   "source": [
    "dataset=pd.read_csv(\"dataset.csv\", encoding=\"latin-1\")\n",
    "dataset.head()"
   ]
  },
  {
   "cell_type": "code",
   "execution_count": 4,
   "id": "bb0f3a7b-48e4-4da5-a829-78e1d7bd43c2",
   "metadata": {},
   "outputs": [],
   "source": [
    "## get the information of dataset"
   ]
  },
  {
   "cell_type": "code",
   "execution_count": 5,
   "id": "8dd15d4e-f8fa-490e-b6be-a136d5951915",
   "metadata": {},
   "outputs": [
    {
     "name": "stdout",
     "output_type": "stream",
     "text": [
      "<class 'pandas.core.frame.DataFrame'>\n",
      "RangeIndex: 53043 entries, 0 to 53042\n",
      "Data columns (total 3 columns):\n",
      " #   Column      Non-Null Count  Dtype \n",
      "---  ------      --------------  ----- \n",
      " 0   Unnamed: 0  53043 non-null  int64 \n",
      " 1   statement   52681 non-null  object\n",
      " 2   status      53043 non-null  object\n",
      "dtypes: int64(1), object(2)\n",
      "memory usage: 1.2+ MB\n"
     ]
    }
   ],
   "source": [
    "dataset.info()"
   ]
  },
  {
   "cell_type": "code",
   "execution_count": 6,
   "id": "63d67607-6c0d-4741-8884-88db00d95aee",
   "metadata": {},
   "outputs": [],
   "source": [
    "## check the null values of the dataset"
   ]
  },
  {
   "cell_type": "code",
   "execution_count": 7,
   "id": "1c05ab01-cedd-4af4-9fbc-077419937cda",
   "metadata": {},
   "outputs": [
    {
     "data": {
      "text/plain": [
       "Unnamed: 0      0\n",
       "statement     362\n",
       "status          0\n",
       "dtype: int64"
      ]
     },
     "execution_count": 7,
     "metadata": {},
     "output_type": "execute_result"
    }
   ],
   "source": [
    "dataset.isnull().sum()"
   ]
  },
  {
   "cell_type": "code",
   "execution_count": 8,
   "id": "853f33f7-e096-41d1-9705-1d2b2596ab51",
   "metadata": {},
   "outputs": [],
   "source": [
    "## Split the whole dataset into  train and test set"
   ]
  },
  {
   "cell_type": "code",
   "execution_count": 9,
   "id": "a624e2b5-9224-4002-b5b1-55882b226547",
   "metadata": {},
   "outputs": [],
   "source": [
    "from sklearn.model_selection import train_test_split\n",
    "trainset, testset=train_test_split(dataset, test_size=0.2, random_state=42)"
   ]
  },
  {
   "cell_type": "code",
   "execution_count": 10,
   "id": "fb3411f6-4af4-4b69-8a88-915d67d6a34f",
   "metadata": {},
   "outputs": [
    {
     "data": {
      "text/plain": [
       "((42434, 3), (10609, 3))"
      ]
     },
     "execution_count": 10,
     "metadata": {},
     "output_type": "execute_result"
    }
   ],
   "source": [
    "trainset.shape, testset.shape"
   ]
  },
  {
   "cell_type": "code",
   "execution_count": 11,
   "id": "2dcea2ef-10c1-472f-9bda-1c8678fcad45",
   "metadata": {},
   "outputs": [
    {
     "data": {
      "text/html": [
       "<div>\n",
       "<style scoped>\n",
       "    .dataframe tbody tr th:only-of-type {\n",
       "        vertical-align: middle;\n",
       "    }\n",
       "\n",
       "    .dataframe tbody tr th {\n",
       "        vertical-align: top;\n",
       "    }\n",
       "\n",
       "    .dataframe thead th {\n",
       "        text-align: right;\n",
       "    }\n",
       "</style>\n",
       "<table border=\"1\" class=\"dataframe\">\n",
       "  <thead>\n",
       "    <tr style=\"text-align: right;\">\n",
       "      <th></th>\n",
       "      <th>Unnamed: 0</th>\n",
       "      <th>statement</th>\n",
       "      <th>status</th>\n",
       "    </tr>\n",
       "  </thead>\n",
       "  <tbody>\n",
       "    <tr>\n",
       "      <th>52275</th>\n",
       "      <td>52275</td>\n",
       "      <td>How do you make eye contact with people? I rea...</td>\n",
       "      <td>Anxiety</td>\n",
       "    </tr>\n",
       "    <tr>\n",
       "      <th>49099</th>\n",
       "      <td>49099</td>\n",
       "      <td>Balancing school, social life and work How to ...</td>\n",
       "      <td>Stress</td>\n",
       "    </tr>\n",
       "    <tr>\n",
       "      <th>10636</th>\n",
       "      <td>10636</td>\n",
       "      <td>weed made me motivated and happy again. motivated</td>\n",
       "      <td>Depression</td>\n",
       "    </tr>\n",
       "    <tr>\n",
       "      <th>23796</th>\n",
       "      <td>23796</td>\n",
       "      <td>24/7 i cringe at my past thoughts omg its so p...</td>\n",
       "      <td>Suicidal</td>\n",
       "    </tr>\n",
       "    <tr>\n",
       "      <th>48863</th>\n",
       "      <td>48863</td>\n",
       "      <td>NaN</td>\n",
       "      <td>Stress</td>\n",
       "    </tr>\n",
       "  </tbody>\n",
       "</table>\n",
       "</div>"
      ],
      "text/plain": [
       "       Unnamed: 0                                          statement  \\\n",
       "52275       52275  How do you make eye contact with people? I rea...   \n",
       "49099       49099  Balancing school, social life and work How to ...   \n",
       "10636       10636  weed made me motivated and happy again. motivated   \n",
       "23796       23796  24/7 i cringe at my past thoughts omg its so p...   \n",
       "48863       48863                                                NaN   \n",
       "\n",
       "           status  \n",
       "52275     Anxiety  \n",
       "49099      Stress  \n",
       "10636  Depression  \n",
       "23796    Suicidal  \n",
       "48863      Stress  "
      ]
     },
     "execution_count": 11,
     "metadata": {},
     "output_type": "execute_result"
    }
   ],
   "source": [
    "trainset.head()"
   ]
  },
  {
   "cell_type": "code",
   "execution_count": 12,
   "id": "a6b3cbc6-fef1-4b0a-82a7-a028cfa00b5a",
   "metadata": {},
   "outputs": [
    {
     "data": {
      "text/html": [
       "<div>\n",
       "<style scoped>\n",
       "    .dataframe tbody tr th:only-of-type {\n",
       "        vertical-align: middle;\n",
       "    }\n",
       "\n",
       "    .dataframe tbody tr th {\n",
       "        vertical-align: top;\n",
       "    }\n",
       "\n",
       "    .dataframe thead th {\n",
       "        text-align: right;\n",
       "    }\n",
       "</style>\n",
       "<table border=\"1\" class=\"dataframe\">\n",
       "  <thead>\n",
       "    <tr style=\"text-align: right;\">\n",
       "      <th></th>\n",
       "      <th>Unnamed: 0</th>\n",
       "      <th>statement</th>\n",
       "      <th>status</th>\n",
       "    </tr>\n",
       "  </thead>\n",
       "  <tbody>\n",
       "    <tr>\n",
       "      <th>22261</th>\n",
       "      <td>22261</td>\n",
       "      <td>Just as the the title says. I feel like one is...</td>\n",
       "      <td>Depression</td>\n",
       "    </tr>\n",
       "    <tr>\n",
       "      <th>41400</th>\n",
       "      <td>41400</td>\n",
       "      <td>a blackened sky encroached tugging behind it m...</td>\n",
       "      <td>Depression</td>\n",
       "    </tr>\n",
       "    <tr>\n",
       "      <th>20065</th>\n",
       "      <td>20065</td>\n",
       "      <td>It gives you insomnia, which in turn makes you...</td>\n",
       "      <td>Depression</td>\n",
       "    </tr>\n",
       "    <tr>\n",
       "      <th>30036</th>\n",
       "      <td>30036</td>\n",
       "      <td>Hello all, I'm a new submitter to this channel...</td>\n",
       "      <td>Normal</td>\n",
       "    </tr>\n",
       "    <tr>\n",
       "      <th>780</th>\n",
       "      <td>780</td>\n",
       "      <td>Thank God the CB is over for Eid</td>\n",
       "      <td>Normal</td>\n",
       "    </tr>\n",
       "  </tbody>\n",
       "</table>\n",
       "</div>"
      ],
      "text/plain": [
       "       Unnamed: 0                                          statement  \\\n",
       "22261       22261  Just as the the title says. I feel like one is...   \n",
       "41400       41400  a blackened sky encroached tugging behind it m...   \n",
       "20065       20065  It gives you insomnia, which in turn makes you...   \n",
       "30036       30036  Hello all, I'm a new submitter to this channel...   \n",
       "780           780                   Thank God the CB is over for Eid   \n",
       "\n",
       "           status  \n",
       "22261  Depression  \n",
       "41400  Depression  \n",
       "20065  Depression  \n",
       "30036      Normal  \n",
       "780        Normal  "
      ]
     },
     "execution_count": 12,
     "metadata": {},
     "output_type": "execute_result"
    }
   ],
   "source": [
    "testset.head()"
   ]
  },
  {
   "cell_type": "markdown",
   "id": "23b37602-870e-481a-84d1-f04ab822b68e",
   "metadata": {},
   "source": [
    "## Data Preprocessing"
   ]
  },
  {
   "cell_type": "code",
   "execution_count": 13,
   "id": "79de59ba-d127-4f0a-a12d-399a932c175d",
   "metadata": {},
   "outputs": [],
   "source": [
    "## Drop the unnecessary columns"
   ]
  },
  {
   "cell_type": "code",
   "execution_count": 14,
   "id": "113f232b-d22f-41c7-b189-74a79050c963",
   "metadata": {},
   "outputs": [
    {
     "data": {
      "text/html": [
       "<div>\n",
       "<style scoped>\n",
       "    .dataframe tbody tr th:only-of-type {\n",
       "        vertical-align: middle;\n",
       "    }\n",
       "\n",
       "    .dataframe tbody tr th {\n",
       "        vertical-align: top;\n",
       "    }\n",
       "\n",
       "    .dataframe thead th {\n",
       "        text-align: right;\n",
       "    }\n",
       "</style>\n",
       "<table border=\"1\" class=\"dataframe\">\n",
       "  <thead>\n",
       "    <tr style=\"text-align: right;\">\n",
       "      <th></th>\n",
       "      <th>statement</th>\n",
       "      <th>status</th>\n",
       "    </tr>\n",
       "  </thead>\n",
       "  <tbody>\n",
       "    <tr>\n",
       "      <th>52275</th>\n",
       "      <td>How do you make eye contact with people? I rea...</td>\n",
       "      <td>Anxiety</td>\n",
       "    </tr>\n",
       "    <tr>\n",
       "      <th>49099</th>\n",
       "      <td>Balancing school, social life and work How to ...</td>\n",
       "      <td>Stress</td>\n",
       "    </tr>\n",
       "    <tr>\n",
       "      <th>10636</th>\n",
       "      <td>weed made me motivated and happy again. motivated</td>\n",
       "      <td>Depression</td>\n",
       "    </tr>\n",
       "    <tr>\n",
       "      <th>23796</th>\n",
       "      <td>24/7 i cringe at my past thoughts omg its so p...</td>\n",
       "      <td>Suicidal</td>\n",
       "    </tr>\n",
       "    <tr>\n",
       "      <th>48863</th>\n",
       "      <td>NaN</td>\n",
       "      <td>Stress</td>\n",
       "    </tr>\n",
       "  </tbody>\n",
       "</table>\n",
       "</div>"
      ],
      "text/plain": [
       "                                               statement      status\n",
       "52275  How do you make eye contact with people? I rea...     Anxiety\n",
       "49099  Balancing school, social life and work How to ...      Stress\n",
       "10636  weed made me motivated and happy again. motivated  Depression\n",
       "23796  24/7 i cringe at my past thoughts omg its so p...    Suicidal\n",
       "48863                                                NaN      Stress"
      ]
     },
     "execution_count": 14,
     "metadata": {},
     "output_type": "execute_result"
    }
   ],
   "source": [
    "new_train_set=trainset.drop('Unnamed: 0', axis=1)\n",
    "new_train_set.head()"
   ]
  },
  {
   "cell_type": "code",
   "execution_count": 15,
   "id": "164b3401-f4fd-4ecc-ae1e-9d637afc485a",
   "metadata": {},
   "outputs": [
    {
     "name": "stdout",
     "output_type": "stream",
     "text": [
      "<class 'pandas.core.frame.DataFrame'>\n",
      "Index: 42434 entries, 52275 to 15795\n",
      "Data columns (total 2 columns):\n",
      " #   Column     Non-Null Count  Dtype \n",
      "---  ------     --------------  ----- \n",
      " 0   statement  42157 non-null  object\n",
      " 1   status     42434 non-null  object\n",
      "dtypes: object(2)\n",
      "memory usage: 994.5+ KB\n"
     ]
    }
   ],
   "source": [
    "new_train_set.info()"
   ]
  },
  {
   "cell_type": "code",
   "execution_count": 16,
   "id": "35ad0b81-183b-4aa3-a812-0461c899eaca",
   "metadata": {},
   "outputs": [],
   "source": [
    "##  check value counts of statement"
   ]
  },
  {
   "cell_type": "code",
   "execution_count": 17,
   "id": "d0bd1af0-e03e-4aef-96fc-20632b87aa1d",
   "metadata": {},
   "outputs": [
    {
     "data": {
      "text/plain": [
       "status\n",
       "Normal                  13024\n",
       "Depression              12304\n",
       "Suicidal                 8635\n",
       "Anxiety                  3109\n",
       "Bipolar                  2297\n",
       "Stress                   2112\n",
       "Personality disorder      953\n",
       "Name: count, dtype: int64"
      ]
     },
     "execution_count": 17,
     "metadata": {},
     "output_type": "execute_result"
    }
   ],
   "source": [
    "new_train_set['status'].value_counts()"
   ]
  },
  {
   "cell_type": "code",
   "execution_count": 18,
   "id": "544912b7-0136-4771-85f2-bf0331aba1a0",
   "metadata": {},
   "outputs": [
    {
     "name": "stdout",
     "output_type": "stream",
     "text": [
      "<class 'pandas.core.series.Series'>\n",
      "Index: 42434 entries, 52275 to 15795\n",
      "Series name: statement\n",
      "Non-Null Count  Dtype \n",
      "--------------  ----- \n",
      "42157 non-null  object\n",
      "dtypes: object(1)\n",
      "memory usage: 663.0+ KB\n"
     ]
    }
   ],
   "source": [
    "new_train_set['statement'].info()"
   ]
  },
  {
   "cell_type": "code",
   "execution_count": 19,
   "id": "8f09d293-6d67-48bd-8695-915270e4fe43",
   "metadata": {},
   "outputs": [],
   "source": [
    "## Fill the missing values"
   ]
  },
  {
   "cell_type": "code",
   "execution_count": 20,
   "id": "3a7d7c9f-780f-4e59-9fba-e3eb7d1b2b59",
   "metadata": {},
   "outputs": [
    {
     "data": {
      "text/plain": [
       "'what do you mean?'"
      ]
     },
     "execution_count": 20,
     "metadata": {},
     "output_type": "execute_result"
    }
   ],
   "source": [
    "statement_column=new_train_set['statement'].mode()[0]\n",
    "statement_column"
   ]
  },
  {
   "cell_type": "code",
   "execution_count": 21,
   "id": "759d5fca-6372-4b54-8141-a6a97873697f",
   "metadata": {},
   "outputs": [
    {
     "data": {
      "text/plain": [
       "52275    How do you make eye contact with people? I rea...\n",
       "49099    Balancing school, social life and work How to ...\n",
       "10636    weed made me motivated and happy again. motivated\n",
       "23796    24/7 i cringe at my past thoughts omg its so p...\n",
       "48863                                    what do you mean?\n",
       "Name: statement, dtype: object"
      ]
     },
     "execution_count": 21,
     "metadata": {},
     "output_type": "execute_result"
    }
   ],
   "source": [
    "new_train_set['statement']=new_train_set['statement'].fillna(statement_column)\n",
    "new_train_set['statement'].head()"
   ]
  },
  {
   "cell_type": "code",
   "execution_count": 22,
   "id": "fd6b3d87-9fb5-4d80-99f5-47a4da9a888f",
   "metadata": {},
   "outputs": [],
   "source": [
    "##  check the null values of statement column after filling  the null values"
   ]
  },
  {
   "cell_type": "code",
   "execution_count": 23,
   "id": "0fb3ac4b-d76b-4512-ad37-f73ee7e345b4",
   "metadata": {},
   "outputs": [
    {
     "data": {
      "text/plain": [
       "0"
      ]
     },
     "execution_count": 23,
     "metadata": {},
     "output_type": "execute_result"
    }
   ],
   "source": [
    "new_train_set['statement'].isnull().sum()"
   ]
  },
  {
   "cell_type": "code",
   "execution_count": 24,
   "id": "0a7b6a34-b0bc-4d3b-b9a1-bf42244c47c1",
   "metadata": {},
   "outputs": [
    {
     "name": "stdout",
     "output_type": "stream",
     "text": [
      "<class 'pandas.core.frame.DataFrame'>\n",
      "Index: 42434 entries, 52275 to 15795\n",
      "Data columns (total 2 columns):\n",
      " #   Column     Non-Null Count  Dtype \n",
      "---  ------     --------------  ----- \n",
      " 0   statement  42434 non-null  object\n",
      " 1   status     42434 non-null  object\n",
      "dtypes: object(2)\n",
      "memory usage: 994.5+ KB\n"
     ]
    }
   ],
   "source": [
    "new_train_set.info()"
   ]
  },
  {
   "cell_type": "code",
   "execution_count": 25,
   "id": "7cf5ad31-ce8e-4a70-9024-cdd1dbd9b858",
   "metadata": {},
   "outputs": [],
   "source": [
    "## text preprocessing"
   ]
  },
  {
   "cell_type": "code",
   "execution_count": 26,
   "id": "1ca07025-aff6-496a-a763-e5ebd63147b4",
   "metadata": {},
   "outputs": [],
   "source": [
    "import string\n",
    "import re"
   ]
  },
  {
   "cell_type": "code",
   "execution_count": 27,
   "id": "f89b37f6-835e-4995-b721-17ee9bc24df6",
   "metadata": {},
   "outputs": [
    {
     "data": {
      "text/plain": [
       "52275    How do you make eye contact with people? I rea...\n",
       "49099    Balancing school, social life and work How to ...\n",
       "10636    weed made me motivated and happy again. motivated\n",
       "23796    24/7 i cringe at my past thoughts omg its so p...\n",
       "48863                                    what do you mean?\n",
       "Name: statement, dtype: object"
      ]
     },
     "execution_count": 27,
     "metadata": {},
     "output_type": "execute_result"
    }
   ],
   "source": [
    "new_train_set['statement'].head()"
   ]
  },
  {
   "cell_type": "code",
   "execution_count": 28,
   "id": "0ccb6b4d-45ea-4258-bd2e-0baa659d263a",
   "metadata": {},
   "outputs": [],
   "source": [
    "## convert the uppercase letters into lowercase letters"
   ]
  },
  {
   "cell_type": "code",
   "execution_count": 29,
   "id": "2b341b99-ac6f-4dc2-ba00-77931afb03f4",
   "metadata": {},
   "outputs": [],
   "source": [
    "new_train_set['statement']=new_train_set['statement'].apply(lambda x: \"  \".join(x.lower() for x in  x.split()))"
   ]
  },
  {
   "cell_type": "code",
   "execution_count": 30,
   "id": "fe820c97-4951-4acc-8250-d4e5f897717b",
   "metadata": {},
   "outputs": [
    {
     "data": {
      "text/plain": [
       "52275    how  do  you  make  eye  contact  with  people...\n",
       "49099    balancing  school,  social  life  and  work  h...\n",
       "10636    weed  made  me  motivated  and  happy  again. ...\n",
       "23796    24/7  i  cringe  at  my  past  thoughts  omg  ...\n",
       "48863                                 what  do  you  mean?\n",
       "Name: statement, dtype: object"
      ]
     },
     "execution_count": 30,
     "metadata": {},
     "output_type": "execute_result"
    }
   ],
   "source": [
    "new_train_set['statement'].head()"
   ]
  },
  {
   "cell_type": "code",
   "execution_count": 31,
   "id": "5d4d90de-d612-4e09-9623-21f6caf3bcfc",
   "metadata": {},
   "outputs": [],
   "source": [
    "## Remoe thee links"
   ]
  },
  {
   "cell_type": "code",
   "execution_count": 32,
   "id": "7c61296e-fc2e-4c59-86f4-e776ee66a072",
   "metadata": {},
   "outputs": [],
   "source": [
    "new_train_set['statement']=new_train_set['statement'].apply(lambda x:\" \".join(re.sub(r'https?:\\/\\/.*[\\r\\n]*','',x,flags=re.MULTILINE) for x in x.split()))"
   ]
  },
  {
   "cell_type": "code",
   "execution_count": 33,
   "id": "0f985919-b39b-4aae-83ce-6614b2c7d7f8",
   "metadata": {},
   "outputs": [
    {
     "data": {
      "text/plain": [
       "52275    how do you make eye contact with people? i rea...\n",
       "49099    balancing school, social life and work how to ...\n",
       "10636    weed made me motivated and happy again. motivated\n",
       "23796    24/7 i cringe at my past thoughts omg its so p...\n",
       "48863                                    what do you mean?\n",
       "Name: statement, dtype: object"
      ]
     },
     "execution_count": 33,
     "metadata": {},
     "output_type": "execute_result"
    }
   ],
   "source": [
    "new_train_set['statement'].head()"
   ]
  },
  {
   "cell_type": "code",
   "execution_count": 34,
   "id": "54f9e05d-d8a0-4f87-baf0-76ff20a8128c",
   "metadata": {},
   "outputs": [],
   "source": [
    "## Remove punctuation marks"
   ]
  },
  {
   "cell_type": "code",
   "execution_count": 35,
   "id": "9ad97a91-4213-462a-9013-5a3ffff7a661",
   "metadata": {},
   "outputs": [
    {
     "data": {
      "text/plain": [
       "'!\"#$%&\\'()*+,-./:;<=>?@[\\\\]^_`{|}~'"
      ]
     },
     "execution_count": 35,
     "metadata": {},
     "output_type": "execute_result"
    }
   ],
   "source": [
    "string.punctuation"
   ]
  },
  {
   "cell_type": "code",
   "execution_count": 36,
   "id": "5a8fa6de-3691-4ae5-a092-fc7d819e132b",
   "metadata": {},
   "outputs": [
    {
     "data": {
      "text/plain": [
       "52275    how do you make eye contact with people i real...\n",
       "49099    balancing school social life and work how to d...\n",
       "10636     weed made me motivated and happy again motivated\n",
       "23796    247 i cringe at my past thoughts omg its so pa...\n",
       "48863                                     what do you mean\n",
       "                               ...                        \n",
       "11284    i used to be a very confident cheerful person ...\n",
       "44732    spanx except i missed last week s lee and now ...\n",
       "38158    tl dr have been abused mentally and physically...\n",
       "860                           do i sell the tutorial again\n",
       "15795    i am not religious but do believe in god but t...\n",
       "Name: statement, Length: 42434, dtype: object"
      ]
     },
     "execution_count": 36,
     "metadata": {},
     "output_type": "execute_result"
    }
   ],
   "source": [
    "def remove_punctuation(text):\n",
    "    for punctuations in string.punctuation:\n",
    "        text=text.replace(punctuations,'')\n",
    "    return text\n",
    "new_train_set['statement']=new_train_set['statement'].apply(remove_punctuation)\n",
    "new_train_set['statement']"
   ]
  },
  {
   "cell_type": "code",
   "execution_count": 37,
   "id": "82f9c1b9-933a-4728-9147-e5e7ebcb57fe",
   "metadata": {},
   "outputs": [],
   "source": [
    "## remove the numbers from text"
   ]
  },
  {
   "cell_type": "code",
   "execution_count": 38,
   "id": "37290351-464e-4b6f-90fc-2f5826edff4c",
   "metadata": {},
   "outputs": [
    {
     "name": "stderr",
     "output_type": "stream",
     "text": [
      "<>:1: SyntaxWarning: invalid escape sequence '\\d'\n",
      "<>:1: SyntaxWarning: invalid escape sequence '\\d'\n",
      "C:\\Users\\THIS PC\\AppData\\Local\\Temp\\ipykernel_84928\\4162056198.py:1: SyntaxWarning: invalid escape sequence '\\d'\n",
      "  new_train_set['statement']=new_train_set['statement'].str.replace('\\d+','',regex=True)\n"
     ]
    },
    {
     "data": {
      "text/plain": [
       "52275    how do you make eye contact with people i real...\n",
       "49099    balancing school social life and work how to d...\n",
       "10636     weed made me motivated and happy again motivated\n",
       "23796     i cringe at my past thoughts omg its so painf...\n",
       "48863                                     what do you mean\n",
       "Name: statement, dtype: object"
      ]
     },
     "execution_count": 38,
     "metadata": {},
     "output_type": "execute_result"
    }
   ],
   "source": [
    "new_train_set['statement']=new_train_set['statement'].str.replace('\\d+','',regex=True)\n",
    "new_train_set['statement'].head()"
   ]
  },
  {
   "cell_type": "code",
   "execution_count": 39,
   "id": "5b7da40e-4db4-4749-a387-6abb7b250c3b",
   "metadata": {},
   "outputs": [],
   "source": [
    "## Remove stop words"
   ]
  },
  {
   "cell_type": "code",
   "execution_count": 40,
   "id": "821e1291-9df2-4b79-aabd-7786e92bf84b",
   "metadata": {},
   "outputs": [],
   "source": [
    "import nltk"
   ]
  },
  {
   "cell_type": "code",
   "execution_count": 41,
   "id": "4ccfeecd-b6f7-4f99-89d0-a6cf76a0f7fc",
   "metadata": {},
   "outputs": [],
   "source": [
    "## download the stop words"
   ]
  },
  {
   "cell_type": "code",
   "execution_count": 42,
   "id": "52c53168-342c-496e-a8f9-4c9b590e58bc",
   "metadata": {},
   "outputs": [
    {
     "name": "stderr",
     "output_type": "stream",
     "text": [
      "[nltk_data] Downloading package stopwords to model/stopwords/...\n",
      "[nltk_data]   Package stopwords is already up-to-date!\n"
     ]
    },
    {
     "data": {
      "text/plain": [
       "True"
      ]
     },
     "execution_count": 42,
     "metadata": {},
     "output_type": "execute_result"
    }
   ],
   "source": [
    "nltk.download('stopwords', download_dir=\"model/stopwords/\")"
   ]
  },
  {
   "cell_type": "code",
   "execution_count": 43,
   "id": "46acd30e-1a6f-4bed-94a1-991a993d684d",
   "metadata": {},
   "outputs": [],
   "source": [
    "## load the english language stopwords"
   ]
  },
  {
   "cell_type": "code",
   "execution_count": 44,
   "id": "48e83382-c67f-41ff-aabf-ec8b60de055d",
   "metadata": {},
   "outputs": [],
   "source": [
    "with open(\"model/stopwords/corpora/stopwords/english\", 'r') as file:\n",
    "    stopwords=file.read().splitlines()"
   ]
  },
  {
   "cell_type": "code",
   "execution_count": 45,
   "id": "8721a42a-b3b5-4745-8001-6892c6dd40df",
   "metadata": {},
   "outputs": [
    {
     "data": {
      "text/plain": [
       "['a',\n",
       " 'about',\n",
       " 'above',\n",
       " 'after',\n",
       " 'again',\n",
       " 'against',\n",
       " 'ain',\n",
       " 'all',\n",
       " 'am',\n",
       " 'an',\n",
       " 'and',\n",
       " 'any',\n",
       " 'are',\n",
       " 'aren',\n",
       " \"aren't\",\n",
       " 'as',\n",
       " 'at',\n",
       " 'be',\n",
       " 'because',\n",
       " 'been',\n",
       " 'before',\n",
       " 'being',\n",
       " 'below',\n",
       " 'between',\n",
       " 'both',\n",
       " 'but',\n",
       " 'by',\n",
       " 'can',\n",
       " 'couldn',\n",
       " \"couldn't\",\n",
       " 'd',\n",
       " 'did',\n",
       " 'didn',\n",
       " \"didn't\",\n",
       " 'do',\n",
       " 'does',\n",
       " 'doesn',\n",
       " \"doesn't\",\n",
       " 'doing',\n",
       " 'don',\n",
       " \"don't\",\n",
       " 'down',\n",
       " 'during',\n",
       " 'each',\n",
       " 'few',\n",
       " 'for',\n",
       " 'from',\n",
       " 'further',\n",
       " 'had',\n",
       " 'hadn',\n",
       " \"hadn't\",\n",
       " 'has',\n",
       " 'hasn',\n",
       " \"hasn't\",\n",
       " 'have',\n",
       " 'haven',\n",
       " \"haven't\",\n",
       " 'having',\n",
       " 'he',\n",
       " \"he'd\",\n",
       " \"he'll\",\n",
       " 'her',\n",
       " 'here',\n",
       " 'hers',\n",
       " 'herself',\n",
       " \"he's\",\n",
       " 'him',\n",
       " 'himself',\n",
       " 'his',\n",
       " 'how',\n",
       " 'i',\n",
       " \"i'd\",\n",
       " 'if',\n",
       " \"i'll\",\n",
       " \"i'm\",\n",
       " 'in',\n",
       " 'into',\n",
       " 'is',\n",
       " 'isn',\n",
       " \"isn't\",\n",
       " 'it',\n",
       " \"it'd\",\n",
       " \"it'll\",\n",
       " \"it's\",\n",
       " 'its',\n",
       " 'itself',\n",
       " \"i've\",\n",
       " 'just',\n",
       " 'll',\n",
       " 'm',\n",
       " 'ma',\n",
       " 'me',\n",
       " 'mightn',\n",
       " \"mightn't\",\n",
       " 'more',\n",
       " 'most',\n",
       " 'mustn',\n",
       " \"mustn't\",\n",
       " 'my',\n",
       " 'myself',\n",
       " 'needn',\n",
       " \"needn't\",\n",
       " 'no',\n",
       " 'nor',\n",
       " 'not',\n",
       " 'now',\n",
       " 'o',\n",
       " 'of',\n",
       " 'off',\n",
       " 'on',\n",
       " 'once',\n",
       " 'only',\n",
       " 'or',\n",
       " 'other',\n",
       " 'our',\n",
       " 'ours',\n",
       " 'ourselves',\n",
       " 'out',\n",
       " 'over',\n",
       " 'own',\n",
       " 're',\n",
       " 's',\n",
       " 'same',\n",
       " 'shan',\n",
       " \"shan't\",\n",
       " 'she',\n",
       " \"she'd\",\n",
       " \"she'll\",\n",
       " \"she's\",\n",
       " 'should',\n",
       " 'shouldn',\n",
       " \"shouldn't\",\n",
       " \"should've\",\n",
       " 'so',\n",
       " 'some',\n",
       " 'such',\n",
       " 't',\n",
       " 'than',\n",
       " 'that',\n",
       " \"that'll\",\n",
       " 'the',\n",
       " 'their',\n",
       " 'theirs',\n",
       " 'them',\n",
       " 'themselves',\n",
       " 'then',\n",
       " 'there',\n",
       " 'these',\n",
       " 'they',\n",
       " \"they'd\",\n",
       " \"they'll\",\n",
       " \"they're\",\n",
       " \"they've\",\n",
       " 'this',\n",
       " 'those',\n",
       " 'through',\n",
       " 'to',\n",
       " 'too',\n",
       " 'under',\n",
       " 'until',\n",
       " 'up',\n",
       " 've',\n",
       " 'very',\n",
       " 'was',\n",
       " 'wasn',\n",
       " \"wasn't\",\n",
       " 'we',\n",
       " \"we'd\",\n",
       " \"we'll\",\n",
       " \"we're\",\n",
       " 'were',\n",
       " 'weren',\n",
       " \"weren't\",\n",
       " \"we've\",\n",
       " 'what',\n",
       " 'when',\n",
       " 'where',\n",
       " 'which',\n",
       " 'while',\n",
       " 'who',\n",
       " 'whom',\n",
       " 'why',\n",
       " 'will',\n",
       " 'with',\n",
       " 'won',\n",
       " \"won't\",\n",
       " 'wouldn',\n",
       " \"wouldn't\",\n",
       " 'y',\n",
       " 'you',\n",
       " \"you'd\",\n",
       " \"you'll\",\n",
       " 'your',\n",
       " \"you're\",\n",
       " 'yours',\n",
       " 'yourself',\n",
       " 'yourselves',\n",
       " \"you've\"]"
      ]
     },
     "execution_count": 45,
     "metadata": {},
     "output_type": "execute_result"
    }
   ],
   "source": [
    "stopwords"
   ]
  },
  {
   "cell_type": "code",
   "execution_count": 46,
   "id": "99e6196b-5c6b-4574-94db-bfc3d7a3653d",
   "metadata": {},
   "outputs": [],
   "source": [
    "new_train_set['statement']=new_train_set['statement'].apply(lambda x:' '.join(x for x in x.split() if x not in stopwords))"
   ]
  },
  {
   "cell_type": "code",
   "execution_count": 47,
   "id": "2e443f79-4359-4548-91df-bc13f216d90d",
   "metadata": {},
   "outputs": [
    {
     "data": {
      "text/plain": [
       "52275    make eye contact people really struggle person...\n",
       "49099    balancing school social life work balance scho...\n",
       "10636                  weed made motivated happy motivated\n",
       "23796    cringe past thoughts omg painful want die badl...\n",
       "48863                                                 mean\n",
       "Name: statement, dtype: object"
      ]
     },
     "execution_count": 47,
     "metadata": {},
     "output_type": "execute_result"
    }
   ],
   "source": [
    "new_train_set['statement'].head()"
   ]
  },
  {
   "cell_type": "code",
   "execution_count": 48,
   "id": "01b97b10-d809-4245-9b99-c9fe63f0bd8b",
   "metadata": {},
   "outputs": [],
   "source": [
    "## Remove the influectional forms from text"
   ]
  },
  {
   "cell_type": "markdown",
   "id": "2e055e32-3e3e-4732-a2e2-a3c3e46126d3",
   "metadata": {},
   "source": [
    "#### Inflectional forms mean that the same word can appear in different grammatical forms. To reduce this variation, we can use stemming or lemmatization. If the text dataset is very large and speed is important, stemming is usually preferred"
   ]
  },
  {
   "cell_type": "code",
   "execution_count": 49,
   "id": "9b000011-140d-4c45-8ac9-e06121fb27af",
   "metadata": {},
   "outputs": [],
   "source": [
    "from nltk.stem import PorterStemmer\n",
    "ps=PorterStemmer()"
   ]
  },
  {
   "cell_type": "code",
   "execution_count": 50,
   "id": "039ce6b3-e5c5-4700-87da-e69928276864",
   "metadata": {},
   "outputs": [],
   "source": [
    "new_train_set['statement']=new_train_set['statement'].apply(lambda x:' '.join(ps.stem(x) for x in x.split()))"
   ]
  },
  {
   "cell_type": "code",
   "execution_count": 51,
   "id": "6bcf3413-1517-456a-be58-b5751d8e0734",
   "metadata": {},
   "outputs": [
    {
     "data": {
      "text/plain": [
       "52275    make eye contact peopl realli struggl person a...\n",
       "49099    balanc school social life work balanc school w...\n",
       "10636                          weed made motiv happi motiv\n",
       "23796    cring past thought omg pain want die badli cri...\n",
       "48863                                                 mean\n",
       "Name: statement, dtype: object"
      ]
     },
     "execution_count": 51,
     "metadata": {},
     "output_type": "execute_result"
    }
   ],
   "source": [
    "new_train_set['statement'].head()"
   ]
  },
  {
   "cell_type": "code",
   "execution_count": 52,
   "id": "39d4352e-d347-4587-910d-387cf7e415e8",
   "metadata": {},
   "outputs": [],
   "source": [
    "## print the  preprocessed trainset data"
   ]
  },
  {
   "cell_type": "code",
   "execution_count": 53,
   "id": "defd2e10-7fe2-4a8f-9d77-9910896889bb",
   "metadata": {},
   "outputs": [
    {
     "data": {
      "text/html": [
       "<div>\n",
       "<style scoped>\n",
       "    .dataframe tbody tr th:only-of-type {\n",
       "        vertical-align: middle;\n",
       "    }\n",
       "\n",
       "    .dataframe tbody tr th {\n",
       "        vertical-align: top;\n",
       "    }\n",
       "\n",
       "    .dataframe thead th {\n",
       "        text-align: right;\n",
       "    }\n",
       "</style>\n",
       "<table border=\"1\" class=\"dataframe\">\n",
       "  <thead>\n",
       "    <tr style=\"text-align: right;\">\n",
       "      <th></th>\n",
       "      <th>statement</th>\n",
       "      <th>status</th>\n",
       "    </tr>\n",
       "  </thead>\n",
       "  <tbody>\n",
       "    <tr>\n",
       "      <th>52275</th>\n",
       "      <td>make eye contact peopl realli struggl person a...</td>\n",
       "      <td>Anxiety</td>\n",
       "    </tr>\n",
       "    <tr>\n",
       "      <th>49099</th>\n",
       "      <td>balanc school social life work balanc school w...</td>\n",
       "      <td>Stress</td>\n",
       "    </tr>\n",
       "    <tr>\n",
       "      <th>10636</th>\n",
       "      <td>weed made motiv happi motiv</td>\n",
       "      <td>Depression</td>\n",
       "    </tr>\n",
       "    <tr>\n",
       "      <th>23796</th>\n",
       "      <td>cring past thought omg pain want die badli cri...</td>\n",
       "      <td>Suicidal</td>\n",
       "    </tr>\n",
       "    <tr>\n",
       "      <th>48863</th>\n",
       "      <td>mean</td>\n",
       "      <td>Stress</td>\n",
       "    </tr>\n",
       "  </tbody>\n",
       "</table>\n",
       "</div>"
      ],
      "text/plain": [
       "                                               statement      status\n",
       "52275  make eye contact peopl realli struggl person a...     Anxiety\n",
       "49099  balanc school social life work balanc school w...      Stress\n",
       "10636                        weed made motiv happi motiv  Depression\n",
       "23796  cring past thought omg pain want die badli cri...    Suicidal\n",
       "48863                                               mean      Stress"
      ]
     },
     "execution_count": 53,
     "metadata": {},
     "output_type": "execute_result"
    }
   ],
   "source": [
    "new_train_set.head()"
   ]
  },
  {
   "cell_type": "code",
   "execution_count": 54,
   "id": "5d28b0e0-21c8-4058-b7aa-b3990f23f11c",
   "metadata": {},
   "outputs": [],
   "source": [
    "## Convert the preprocessed data into numerical vectors"
   ]
  },
  {
   "cell_type": "code",
   "execution_count": 55,
   "id": "9275a3da-8e39-4759-8e34-5d8631300ab6",
   "metadata": {},
   "outputs": [],
   "source": [
    "## Building the vocabulary"
   ]
  },
  {
   "cell_type": "code",
   "execution_count": 56,
   "id": "5378b7e8-80e3-4b9f-b743-7ad4edee697c",
   "metadata": {},
   "outputs": [],
   "source": [
    "from collections import Counter\n",
    "vocab=Counter()"
   ]
  },
  {
   "cell_type": "code",
   "execution_count": 57,
   "id": "494d3fb5-291c-43d1-a98e-29c237d25d5b",
   "metadata": {},
   "outputs": [
    {
     "data": {
      "text/plain": [
       "Counter()"
      ]
     },
     "execution_count": 57,
     "metadata": {},
     "output_type": "execute_result"
    }
   ],
   "source": [
    "vocab"
   ]
  },
  {
   "cell_type": "code",
   "execution_count": 58,
   "id": "7e7ab4e5-e9e9-43b3-b4c7-84d5026a4213",
   "metadata": {},
   "outputs": [],
   "source": [
    "for sentence in new_train_set['statement']:\n",
    "    vocab.update(sentence.split())"
   ]
  },
  {
   "cell_type": "code",
   "execution_count": 59,
   "id": "76565f5e-5bd0-4f77-95bf-b305708dd668",
   "metadata": {},
   "outputs": [
    {
     "data": {
      "text/plain": [
       "Counter({'feel': 36621,\n",
       "         'like': 31690,\n",
       "         'want': 26861,\n",
       "         'get': 23458,\n",
       "         'go': 21061,\n",
       "         'know': 20392,\n",
       "         'life': 18005,\n",
       "         'time': 17079,\n",
       "         'even': 15286,\n",
       "         'think': 14088,\n",
       "         'peopl': 13575,\n",
       "         'would': 13498,\n",
       "         'year': 13306,\n",
       "         'day': 13144,\n",
       "         'thing': 13098,\n",
       "         'realli': 13074,\n",
       "         'one': 12492,\n",
       "         'tri': 12443,\n",
       "         'cannot': 12344,\n",
       "         'make': 12327,\n",
       "         'depress': 11565,\n",
       "         'im': 11033,\n",
       "         'help': 10877,\n",
       "         'work': 10768,\n",
       "         'friend': 10603,\n",
       "         'take': 9627,\n",
       "         'much': 9561,\n",
       "         'never': 9477,\n",
       "         'live': 9461,\n",
       "         'fuck': 8463,\n",
       "         'start': 8360,\n",
       "         'need': 7887,\n",
       "         'could': 7843,\n",
       "         'thought': 7761,\n",
       "         'back': 7634,\n",
       "         'anymor': 7599,\n",
       "         'talk': 7497,\n",
       "         'anxieti': 7370,\n",
       "         'see': 7306,\n",
       "         'anyth': 7222,\n",
       "         'way': 7188,\n",
       "         'still': 7165,\n",
       "         'someth': 6984,\n",
       "         'love': 6942,\n",
       "         'say': 6854,\n",
       "         'got': 6828,\n",
       "         'good': 6803,\n",
       "         'end': 6788,\n",
       "         'alway': 6738,\n",
       "         'everyth': 6733,\n",
       "         'anyon': 6693,\n",
       "         'die': 6241,\n",
       "         'better': 6234,\n",
       "         'hate': 6196,\n",
       "         'everi': 6140,\n",
       "         'i\\x92m': 6026,\n",
       "         'noth': 5921,\n",
       "         'month': 5877,\n",
       "         'someon': 5859,\n",
       "         'famili': 5765,\n",
       "         'also': 5725,\n",
       "         'bad': 5708,\n",
       "         'last': 5565,\n",
       "         'sinc': 5538,\n",
       "         'suicid': 5504,\n",
       "         'person': 5499,\n",
       "         'job': 5446,\n",
       "         'look': 5438,\n",
       "         'right': 5426,\n",
       "         'keep': 5423,\n",
       "         'week': 5415,\n",
       "         'tell': 5394,\n",
       "         'care': 5357,\n",
       "         'dont': 5351,\n",
       "         'come': 5091,\n",
       "         'pain': 4964,\n",
       "         'stop': 4915,\n",
       "         'kill': 4893,\n",
       "         'happi': 4707,\n",
       "         'ever': 4697,\n",
       "         'lot': 4688,\n",
       "         'use': 4564,\n",
       "         'everyon': 4540,\n",
       "         'happen': 4499,\n",
       "         'find': 4487,\n",
       "         'tire': 4447,\n",
       "         'long': 4445,\n",
       "         'point': 4419,\n",
       "         'around': 4244,\n",
       "         'sleep': 4227,\n",
       "         'hard': 4080,\n",
       "         'give': 4075,\n",
       "         'well': 4071,\n",
       "         'first': 4068,\n",
       "         'els': 4059,\n",
       "         'hope': 4035,\n",
       "         'school': 4033,\n",
       "         'mental': 4008,\n",
       "         'seem': 3987,\n",
       "         'away': 3983,\n",
       "         'felt': 3957,\n",
       "         'ask': 3950,\n",
       "         'told': 3885,\n",
       "         'shit': 3873,\n",
       "         'ive': 3807,\n",
       "         'alon': 3790,\n",
       "         'made': 3774,\n",
       "         'wish': 3755,\n",
       "         'parent': 3694,\n",
       "         'hurt': 3684,\n",
       "         'said': 3620,\n",
       "         'ago': 3588,\n",
       "         'stress': 3568,\n",
       "         'mayb': 3451,\n",
       "         'actual': 3393,\n",
       "         'reason': 3385,\n",
       "         'enough': 3307,\n",
       "         'wors': 3299,\n",
       "         'went': 3295,\n",
       "         'past': 3252,\n",
       "         'mani': 3239,\n",
       "         'new': 3232,\n",
       "         'ill': 3189,\n",
       "         'scare': 3182,\n",
       "         'world': 3163,\n",
       "         'home': 3124,\n",
       "         'night': 3119,\n",
       "         'today': 3107,\n",
       "         'wa': 3099,\n",
       "         'move': 3098,\n",
       "         'sure': 3088,\n",
       "         'let': 3080,\n",
       "         'problem': 3066,\n",
       "         'cri': 3063,\n",
       "         'abl': 3052,\n",
       "         'leav': 3041,\n",
       "         'call': 3031,\n",
       "         'health': 3015,\n",
       "         'sometim': 3003,\n",
       "         'done': 3003,\n",
       "         'put': 3000,\n",
       "         'littl': 2987,\n",
       "         'sad': 2958,\n",
       "         'though': 2909,\n",
       "         'without': 2870,\n",
       "         'best': 2861,\n",
       "         'chang': 2847,\n",
       "         'worri': 2836,\n",
       "         'left': 2832,\n",
       "         'relationship': 2813,\n",
       "         'mind': 2810,\n",
       "         'mom': 2806,\n",
       "         'hour': 2804,\n",
       "         'two': 2747,\n",
       "         'head': 2746,\n",
       "         'post': 2740,\n",
       "         'understand': 2678,\n",
       "         'struggl': 2675,\n",
       "         'cant': 2667,\n",
       "         'normal': 2659,\n",
       "         'mean': 2647,\n",
       "         'kind': 2646,\n",
       "         'old': 2618,\n",
       "         'lost': 2602,\n",
       "         'pleas': 2595,\n",
       "         'don\\x92t': 2576,\n",
       "         'place': 2575,\n",
       "         'read': 2568,\n",
       "         'thank': 2543,\n",
       "         'almost': 2535,\n",
       "         'medic': 2517,\n",
       "         'anoth': 2496,\n",
       "         'wrong': 2477,\n",
       "         'it\\x92': 2469,\n",
       "         'i\\x92v': 2450,\n",
       "         'emot': 2433,\n",
       "         'issu': 2431,\n",
       "         'alreadi': 2428,\n",
       "         'stay': 2407,\n",
       "         'doctor': 2404,\n",
       "         'final': 2346,\n",
       "         'deal': 2341,\n",
       "         'differ': 2326,\n",
       "         'eat': 2312,\n",
       "         'experi': 2303,\n",
       "         'probabl': 2300,\n",
       "         'complet': 2296,\n",
       "         'pretti': 2287,\n",
       "         'money': 2287,\n",
       "         'might': 2259,\n",
       "         'self': 2251,\n",
       "         'therapi': 2238,\n",
       "         'social': 2231,\n",
       "         'guy': 2215,\n",
       "         'recent': 2191,\n",
       "         'heart': 2155,\n",
       "         'becom': 2147,\n",
       "         'suffer': 2144,\n",
       "         'sorri': 2103,\n",
       "         'brain': 2086,\n",
       "         'turn': 2078,\n",
       "         'hous': 2072,\n",
       "         'next': 2069,\n",
       "         'med': 2066,\n",
       "         'symptom': 2043,\n",
       "         'part': 2043,\n",
       "         'other': 2030,\n",
       "         'bodi': 2022,\n",
       "         'matter': 2013,\n",
       "         'caus': 1967,\n",
       "         'guess': 1958,\n",
       "         'yet': 1923,\n",
       "         'plan': 1920,\n",
       "         'high': 1907,\n",
       "         'bit': 1900,\n",
       "         'wake': 1896,\n",
       "         'sick': 1890,\n",
       "         'believ': 1886,\n",
       "         'close': 1875,\n",
       "         'us': 1867,\n",
       "         'rememb': 1867,\n",
       "         'liter': 1859,\n",
       "         'exist': 1855,\n",
       "         'fear': 1840,\n",
       "         'therapist': 1840,\n",
       "         'bed': 1833,\n",
       "         'dad': 1824,\n",
       "         'advic': 1822,\n",
       "         'support': 1806,\n",
       "         'least': 1797,\n",
       "         'whole': 1793,\n",
       "         'late': 1786,\n",
       "         'kid': 1781,\n",
       "         'lose': 1777,\n",
       "         'real': 1761,\n",
       "         'gone': 1751,\n",
       "         'took': 1742,\n",
       "         'wait': 1724,\n",
       "         'death': 1721,\n",
       "         'stuff': 1712,\n",
       "         'attack': 1709,\n",
       "         'bipolar': 1707,\n",
       "         'constantli': 1705,\n",
       "         'found': 1697,\n",
       "         'enjoy': 1696,\n",
       "         'miss': 1692,\n",
       "         'realiz': 1686,\n",
       "         'quit': 1681,\n",
       "         'idea': 1676,\n",
       "         'either': 1675,\n",
       "         'wonder': 1672,\n",
       "         'diagnos': 1669,\n",
       "         'colleg': 1669,\n",
       "         'abus': 1663,\n",
       "         'break': 1657,\n",
       "         'great': 1655,\n",
       "         'situat': 1641,\n",
       "         'sever': 1635,\n",
       "         'physic': 1622,\n",
       "         'due': 1619,\n",
       "         'girl': 1607,\n",
       "         'moment': 1587,\n",
       "         'side': 1586,\n",
       "         'anyway': 1575,\n",
       "         'play': 1550,\n",
       "         'etc': 1548,\n",
       "         'came': 1539,\n",
       "         'fail': 1536,\n",
       "         'anxiou': 1536,\n",
       "         'futur': 1533,\n",
       "         'extrem': 1532,\n",
       "         'write': 1531,\n",
       "         'current': 1527,\n",
       "         'coupl': 1523,\n",
       "         'decid': 1517,\n",
       "         'watch': 1514,\n",
       "         'panic': 1513,\n",
       "         'mother': 1507,\n",
       "         'episod': 1501,\n",
       "         'okay': 1483,\n",
       "         'honestli': 1480,\n",
       "         'possibl': 1478,\n",
       "         'morn': 1459,\n",
       "         'stupid': 1455,\n",
       "         'everyday': 1451,\n",
       "         'soon': 1449,\n",
       "         'face': 1443,\n",
       "         'may': 1423,\n",
       "         'show': 1415,\n",
       "         'fine': 1413,\n",
       "         'basic': 1411,\n",
       "         'usual': 1407,\n",
       "         'room': 1401,\n",
       "         'hear': 1401,\n",
       "         'afraid': 1399,\n",
       "         'idk': 1394,\n",
       "         'fight': 1388,\n",
       "         'dream': 1385,\n",
       "         'cut': 1366,\n",
       "         'walk': 1362,\n",
       "         'interest': 1360,\n",
       "         'question': 1359,\n",
       "         'disord': 1343,\n",
       "         'worst': 1342,\n",
       "         'drink': 1342,\n",
       "         'fall': 1341,\n",
       "         'pay': 1341,\n",
       "         'aliv': 1339,\n",
       "         'control': 1338,\n",
       "         'togeth': 1332,\n",
       "         'nobodi': 1330,\n",
       "         'notic': 1329,\n",
       "         'longer': 1317,\n",
       "         'manag': 1316,\n",
       "         'didnt': 1315,\n",
       "         'later': 1312,\n",
       "         'id': 1309,\n",
       "         'worth': 1307,\n",
       "         'weird': 1305,\n",
       "         'hospit': 1295,\n",
       "         'can\\x92t': 1295,\n",
       "         'studi': 1285,\n",
       "         'hit': 1285,\n",
       "         'hell': 1281,\n",
       "         'motiv': 1275,\n",
       "         'pass': 1274,\n",
       "         'state': 1268,\n",
       "         'far': 1265,\n",
       "         'second': 1258,\n",
       "         'deserv': 1254,\n",
       "         'sit': 1249,\n",
       "         'less': 1246,\n",
       "         'attempt': 1245,\n",
       "         'dead': 1237,\n",
       "         'open': 1232,\n",
       "         'ha': 1231,\n",
       "         'often': 1229,\n",
       "         'fact': 1225,\n",
       "         'run': 1214,\n",
       "         'spend': 1213,\n",
       "         'date': 1207,\n",
       "         'bare': 1205,\n",
       "         'suppos': 1202,\n",
       "         'hold': 1202,\n",
       "         'suck': 1200,\n",
       "         'car': 1199,\n",
       "         'game': 1190,\n",
       "         'continu': 1188,\n",
       "         'singl': 1182,\n",
       "         'word': 1180,\n",
       "         'listen': 1178,\n",
       "         'god': 1178,\n",
       "         'stuck': 1175,\n",
       "         'learn': 1174,\n",
       "         'age': 1173,\n",
       "         'bring': 1157,\n",
       "         'stori': 1152,\n",
       "         'big': 1151,\n",
       "         'absolut': 1147,\n",
       "         'hand': 1139,\n",
       "         'eye': 1135,\n",
       "         'lie': 1135,\n",
       "         'drive': 1134,\n",
       "         'nice': 1130,\n",
       "         'horribl': 1123,\n",
       "         'minut': 1122,\n",
       "         'full': 1121,\n",
       "         'entir': 1114,\n",
       "         'sound': 1111,\n",
       "         'human': 1110,\n",
       "         'brother': 1110,\n",
       "         'share': 1107,\n",
       "         'lone': 1099,\n",
       "         'energi': 1098,\n",
       "         'class': 1098,\n",
       "         'test': 1091,\n",
       "         'howev': 1090,\n",
       "         'mg': 1088,\n",
       "         'amp': 1087,\n",
       "         'posit': 1081,\n",
       "         'wast': 1080,\n",
       "         'comfort': 1079,\n",
       "         'push': 1078,\n",
       "         'fun': 1078,\n",
       "         'breath': 1076,\n",
       "         'instead': 1072,\n",
       "         'experienc': 1070,\n",
       "         'empti': 1069,\n",
       "         'man': 1067,\n",
       "         'boyfriend': 1067,\n",
       "         'mood': 1063,\n",
       "         'type': 1062,\n",
       "         'sens': 1062,\n",
       "         'act': 1058,\n",
       "         'girlfriend': 1058,\n",
       "         'insid': 1056,\n",
       "         'check': 1055,\n",
       "         'knew': 1053,\n",
       "         'small': 1050,\n",
       "         'rest': 1044,\n",
       "         'hang': 1041,\n",
       "         'reach': 1040,\n",
       "         'food': 1036,\n",
       "         'relat': 1034,\n",
       "         'low': 1032,\n",
       "         'drug': 1026,\n",
       "         'phone': 1023,\n",
       "         'terribl': 1019,\n",
       "         'effect': 1019,\n",
       "         'apart': 1008,\n",
       "         'cope': 1006,\n",
       "         'exhaust': 1005,\n",
       "         'father': 1004,\n",
       "         'expect': 1002,\n",
       "         'sister': 997,\n",
       "         'ruin': 992,\n",
       "         'truli': 992,\n",
       "         'gener': 992,\n",
       "         'accept': 990,\n",
       "         'cours': 989,\n",
       "         'half': 986,\n",
       "         'gotten': 980,\n",
       "         'constant': 976,\n",
       "         'meet': 975,\n",
       "         'angri': 975,\n",
       "         'chest': 969,\n",
       "         'mess': 962,\n",
       "         'especi': 956,\n",
       "         'whatev': 948,\n",
       "         'that': 944,\n",
       "         'forc': 940,\n",
       "         'outsid': 940,\n",
       "         'cancer': 939,\n",
       "         'blood': 937,\n",
       "         'treat': 931,\n",
       "         'goe': 927,\n",
       "         'short': 927,\n",
       "         'gave': 923,\n",
       "         'child': 920,\n",
       "         'broke': 920,\n",
       "         'ok': 919,\n",
       "         'consid': 915,\n",
       "         'fix': 911,\n",
       "         'onlin': 908,\n",
       "         'sort': 907,\n",
       "         'tomorrow': 906,\n",
       "         'handl': 903,\n",
       "         'crazi': 895,\n",
       "         'partner': 888,\n",
       "         'explain': 885,\n",
       "         'save': 878,\n",
       "         'hi': 876,\n",
       "         'group': 875,\n",
       "         'doesnt': 875,\n",
       "         'psychiatrist': 868,\n",
       "         'avoid': 864,\n",
       "         'spent': 864,\n",
       "         'convinc': 863,\n",
       "         'dog': 863,\n",
       "         'trust': 857,\n",
       "         'trigger': 851,\n",
       "         'appreci': 850,\n",
       "         'weight': 849,\n",
       "         'seen': 849,\n",
       "         'vent': 849,\n",
       "         'he': 846,\n",
       "         'saw': 842,\n",
       "         'figur': 841,\n",
       "         'rather': 838,\n",
       "         'ye': 838,\n",
       "         'deep': 833,\n",
       "         'pill': 832,\n",
       "         'free': 832,\n",
       "         'stand': 829,\n",
       "         'forward': 829,\n",
       "         'super': 823,\n",
       "         'answer': 822,\n",
       "         'follow': 822,\n",
       "         'neg': 821,\n",
       "         'kept': 820,\n",
       "         'respons': 820,\n",
       "         'speak': 819,\n",
       "         'univers': 813,\n",
       "         'peac': 811,\n",
       "         'countri': 806,\n",
       "         'whenev': 805,\n",
       "         'commit': 803,\n",
       "         'numb': 795,\n",
       "         'harm': 793,\n",
       "         'option': 792,\n",
       "         'taken': 791,\n",
       "         'eventu': 789,\n",
       "         'miser': 789,\n",
       "         'chanc': 783,\n",
       "         'readi': 781,\n",
       "         'yesterday': 780,\n",
       "         'video': 777,\n",
       "         'three': 776,\n",
       "         'text': 775,\n",
       "         'ignor': 774,\n",
       "         'strong': 772,\n",
       "         'failur': 770,\n",
       "         'clean': 769,\n",
       "         'oh': 766,\n",
       "         'dark': 766,\n",
       "         'difficult': 761,\n",
       "         'behind': 761,\n",
       "         'burden': 759,\n",
       "         'manic': 758,\n",
       "         'grow': 758,\n",
       "         'alcohol': 754,\n",
       "         'major': 754,\n",
       "         'freak': 752,\n",
       "         'memori': 749,\n",
       "         'begin': 746,\n",
       "         'grade': 746,\n",
       "         'smoke': 743,\n",
       "         'drop': 740,\n",
       "         'serious': 740,\n",
       "         'shitti': 739,\n",
       "         'top': 737,\n",
       "         'amount': 736,\n",
       "         'affect': 736,\n",
       "         'trauma': 733,\n",
       "         'appoint': 732,\n",
       "         'buy': 731,\n",
       "         'fast': 731,\n",
       "         'set': 730,\n",
       "         'finish': 729,\n",
       "         'imagin': 728,\n",
       "         'easi': 728,\n",
       "         'forget': 727,\n",
       "         'laugh': 725,\n",
       "         'case': 725,\n",
       "         'given': 725,\n",
       "         'realiti': 724,\n",
       "         'overwhelm': 723,\n",
       "         'genuin': 722,\n",
       "         'hey': 721,\n",
       "         'bother': 717,\n",
       "         'terrifi': 716,\n",
       "         'forev': 714,\n",
       "         'result': 712,\n",
       "         'true': 711,\n",
       "         'sex': 711,\n",
       "         'music': 710,\n",
       "         'activ': 709,\n",
       "         'damn': 705,\n",
       "         'broken': 705,\n",
       "         'allow': 703,\n",
       "         'daili': 702,\n",
       "         'young': 701,\n",
       "         'met': 700,\n",
       "         'commun': 700,\n",
       "         'earli': 698,\n",
       "         'convers': 696,\n",
       "         'born': 693,\n",
       "         'period': 691,\n",
       "         'success': 690,\n",
       "         'upset': 688,\n",
       "         'pressur': 684,\n",
       "         'cold': 684,\n",
       "         'calm': 684,\n",
       "         'th': 683,\n",
       "         'connect': 682,\n",
       "         'name': 680,\n",
       "         'busi': 680,\n",
       "         'total': 679,\n",
       "         'mistak': 678,\n",
       "         'afford': 678,\n",
       "         'blame': 675,\n",
       "         'level': 672,\n",
       "         'step': 672,\n",
       "         'aw': 672,\n",
       "         'mention': 671,\n",
       "         'surviv': 670,\n",
       "         'healthi': 669,\n",
       "         'function': 664,\n",
       "         'becam': 662,\n",
       "         'stomach': 661,\n",
       "         'toward': 660,\n",
       "         'except': 659,\n",
       "         'pick': 658,\n",
       "         'worthless': 657,\n",
       "         'tonight': 657,\n",
       "         'bore': 656,\n",
       "         'similar': 656,\n",
       "         'graduat': 652,\n",
       "         'lack': 650,\n",
       "         'import': 650,\n",
       "         'lol': 649,\n",
       "         'treatment': 647,\n",
       "         'useless': 647,\n",
       "         'attent': 645,\n",
       "         'piec': 642,\n",
       "         'despit': 637,\n",
       "         'focu': 636,\n",
       "         'fault': 636,\n",
       "         'improv': 636,\n",
       "         'covid': 634,\n",
       "         'along': 633,\n",
       "         'cycl': 633,\n",
       "         'selfish': 632,\n",
       "         'joke': 632,\n",
       "         'disappoint': 632,\n",
       "         'lay': 632,\n",
       "         'ex': 631,\n",
       "         'note': 630,\n",
       "         'confid': 630,\n",
       "         'messag': 627,\n",
       "         'confus': 625,\n",
       "         'slowli': 624,\n",
       "         'wife': 623,\n",
       "         'light': 621,\n",
       "         'mostli': 620,\n",
       "         'front': 620,\n",
       "         'bc': 620,\n",
       "         'mine': 618,\n",
       "         'reddit': 616,\n",
       "         'isol': 613,\n",
       "         'fake': 612,\n",
       "         'annoy': 611,\n",
       "         'hopeless': 611,\n",
       "         'heard': 610,\n",
       "         'didn\\x92t': 609,\n",
       "         'antidepress': 608,\n",
       "         'childhood': 607,\n",
       "         'contact': 605,\n",
       "         'decis': 605,\n",
       "         'addict': 604,\n",
       "         'must': 601,\n",
       "         'husband': 599,\n",
       "         'escap': 598,\n",
       "         'multipl': 597,\n",
       "         'develop': 596,\n",
       "         'definit': 595,\n",
       "         'none': 595,\n",
       "         'somehow': 592,\n",
       "         'frustrat': 590,\n",
       "         'huge': 590,\n",
       "         'throw': 588,\n",
       "         'purpos': 587,\n",
       "         'order': 585,\n",
       "         'seek': 583,\n",
       "         'career': 582,\n",
       "         'lead': 582,\n",
       "         'suddenli': 578,\n",
       "         'weak': 576,\n",
       "         'havent': 575,\n",
       "         'student': 575,\n",
       "         'yeah': 575,\n",
       "         'birthday': 574,\n",
       "         'water': 574,\n",
       "         'seriou': 574,\n",
       "         'sexual': 572,\n",
       "         'whether': 572,\n",
       "         'troubl': 571,\n",
       "         'ugli': 571,\n",
       "         'excit': 570,\n",
       "         'bulli': 569,\n",
       "         'harder': 568,\n",
       "         'sign': 568,\n",
       "         'f': 567,\n",
       "         'jump': 559,\n",
       "         'woke': 558,\n",
       "         'beat': 557,\n",
       "         'regret': 557,\n",
       "         'adult': 556,\n",
       "         'hello': 556,\n",
       "         'distract': 555,\n",
       "         'anybodi': 553,\n",
       "         'suggest': 553,\n",
       "         'kick': 552,\n",
       "         'nervou': 551,\n",
       "         'mad': 551,\n",
       "         'book': 549,\n",
       "         'term': 549,\n",
       "         'effort': 549,\n",
       "         'hobbi': 545,\n",
       "         'pull': 540,\n",
       "         'send': 540,\n",
       "         'goal': 540,\n",
       "         'build': 537,\n",
       "         'visit': 532,\n",
       "         'there': 532,\n",
       "         'remind': 532,\n",
       "         'concern': 531,\n",
       "         'comment': 530,\n",
       "         'guilti': 530,\n",
       "         'arm': 528,\n",
       "         'woman': 528,\n",
       "         'older': 525,\n",
       "         'tip': 524,\n",
       "         'account': 524,\n",
       "         'middl': 523,\n",
       "         'summer': 521,\n",
       "         'natur': 519,\n",
       "         'anger': 519,\n",
       "         'safe': 519,\n",
       "         'choic': 518,\n",
       "         'isnt': 517,\n",
       "         'wasnt': 517,\n",
       "         'fill': 517,\n",
       "         'voic': 514,\n",
       "         'immedi': 513,\n",
       "         'na': 513,\n",
       "         'within': 512,\n",
       "         'touch': 512,\n",
       "         'process': 510,\n",
       "         'clear': 510,\n",
       "         'beauti': 508,\n",
       "         'lazi': 507,\n",
       "         'although': 507,\n",
       "         'simpli': 506,\n",
       "         'easier': 506,\n",
       "         'exercis': 506,\n",
       "         'intens': 505,\n",
       "         'diagnosi': 504,\n",
       "         'offer': 504,\n",
       "         'awar': 503,\n",
       "         'somewher': 503,\n",
       "         'interact': 503,\n",
       "         'hair': 503,\n",
       "         'imposs': 502,\n",
       "         'random': 501,\n",
       "         'degre': 500,\n",
       "         'smile': 500,\n",
       "         'marri': 500,\n",
       "         'adhd': 497,\n",
       "         'googl': 497,\n",
       "         'financi': 496,\n",
       "         'societi': 496,\n",
       "         'form': 494,\n",
       "         'destroy': 494,\n",
       "         'scream': 494,\n",
       "         'realis': 490,\n",
       "         'straight': 488,\n",
       "         'cat': 488,\n",
       "         'disappear': 488,\n",
       "         'toxic': 488,\n",
       "         'burn': 487,\n",
       "         'desper': 487,\n",
       "         'rant': 486,\n",
       "         'fit': 486,\n",
       "         'pretend': 485,\n",
       "         'avpd': 485,\n",
       "         'perfect': 484,\n",
       "         'certain': 484,\n",
       "         'headach': 483,\n",
       "         'includ': 482,\n",
       "         'prescrib': 481,\n",
       "         'pathet': 481,\n",
       "         'space': 481,\n",
       "         'amaz': 480,\n",
       "         'event': 479,\n",
       "         'friendship': 479,\n",
       "         'incred': 477,\n",
       "         'tear': 476,\n",
       "         'weekend': 476,\n",
       "         'joy': 475,\n",
       "         'shower': 475,\n",
       "         'exactli': 471,\n",
       "         'sent': 471,\n",
       "         'embarrass': 470,\n",
       "         'psych': 470,\n",
       "         'creat': 469,\n",
       "         'badli': 468,\n",
       "         'hide': 468,\n",
       "         'asleep': 467,\n",
       "         'meant': 465,\n",
       "         'shut': 463,\n",
       "         'obvious': 462,\n",
       "         'express': 459,\n",
       "         'mum': 459,\n",
       "         'exampl': 458,\n",
       "         'condit': 458,\n",
       "         'citi': 458,\n",
       "         'unabl': 457,\n",
       "         'dose': 456,\n",
       "         'area': 455,\n",
       "         'desir': 454,\n",
       "         'drunk': 453,\n",
       "         'your': 453,\n",
       "         'list': 452,\n",
       "         'progress': 451,\n",
       "         'gain': 450,\n",
       "         'spiral': 450,\n",
       "         'funni': 450,\n",
       "         'mania': 450,\n",
       "         'till': 448,\n",
       "         'appli': 448,\n",
       "         'line': 448,\n",
       "         'system': 447,\n",
       "         'reject': 447,\n",
       "         'shake': 446,\n",
       "         'choos': 445,\n",
       "         'doubt': 445,\n",
       "         'u': 445,\n",
       "         'disgust': 444,\n",
       "         'wont': 444,\n",
       "         'insur': 443,\n",
       "         'door': 443,\n",
       "         'honest': 440,\n",
       "         'loss': 440,\n",
       "         'skill': 439,\n",
       "         'increas': 439,\n",
       "         'trap': 437,\n",
       "         'proud': 436,\n",
       "         'skin': 436,\n",
       "         'ptsd': 436,\n",
       "         'stabl': 436,\n",
       "         'poor': 435,\n",
       "         'diseas': 435,\n",
       "         'gun': 434,\n",
       "         'movi': 433,\n",
       "         'near': 432,\n",
       "         'women': 432,\n",
       "         'guilt': 431,\n",
       "         'teacher': 429,\n",
       "         'son': 428,\n",
       "         'exam': 426,\n",
       "         'describ': 426,\n",
       "         'neck': 425,\n",
       "         'x': 425,\n",
       "         'hole': 425,\n",
       "         'research': 424,\n",
       "         'parti': 424,\n",
       "         'weed': 423,\n",
       "         'train': 423,\n",
       "         'refus': 422,\n",
       "         'daughter': 421,\n",
       "         'easili': 419,\n",
       "         'respond': 419,\n",
       "         'anywher': 419,\n",
       "         'damag': 418,\n",
       "         'what': 416,\n",
       "         'trip': 416,\n",
       "         'babi': 416,\n",
       "         'internet': 415,\n",
       "         'nearli': 415,\n",
       "         'male': 415,\n",
       "         'return': 415,\n",
       "         'couldnt': 413,\n",
       "         'younger': 412,\n",
       "         'dumb': 412,\n",
       "         'relax': 410,\n",
       "         'specif': 409,\n",
       "         'bill': 408,\n",
       "         'profession': 408,\n",
       "         'insan': 405,\n",
       "         'leg': 405,\n",
       "         'loneli': 403,\n",
       "         'member': 403,\n",
       "         'achiev': 402,\n",
       "         'admit': 399,\n",
       "         'rare': 398,\n",
       "         'throat': 398,\n",
       "         'simpl': 397,\n",
       "         'yell': 397,\n",
       "         'pictur': 397,\n",
       "         'inform': 396,\n",
       "         'throughout': 396,\n",
       "         'known': 396,\n",
       "         'opportun': 395,\n",
       "         'twice': 395,\n",
       "         'nightmar': 395,\n",
       "         'bullshit': 394,\n",
       "         'chat': 392,\n",
       "         'obsess': 392,\n",
       "         'besid': 391,\n",
       "         'appar': 390,\n",
       "         'pointless': 390,\n",
       "         'quickli': 390,\n",
       "         'doesn\\x92t': 390,\n",
       "         'brought': 389,\n",
       "         'compani': 389,\n",
       "         'present': 389,\n",
       "         'attract': 388,\n",
       "         'kinda': 387,\n",
       "         'receiv': 386,\n",
       "         'medicin': 386,\n",
       "         'uncomfort': 383,\n",
       "         'fire': 382,\n",
       "         'ampxb': 382,\n",
       "         'practic': 382,\n",
       "         'nowher': 382,\n",
       "         'gonna': 381,\n",
       "         'switch': 381,\n",
       "         'i\\x92ll': 378,\n",
       "         'that\\x92': 376,\n",
       "         'number': 374,\n",
       "         'sub': 373,\n",
       "         'promis': 373,\n",
       "         'fell': 373,\n",
       "         'everytim': 373,\n",
       "         'product': 372,\n",
       "         'battl': 371,\n",
       "         'disabl': 371,\n",
       "         'slow': 370,\n",
       "         'potenti': 369,\n",
       "         'began': 369,\n",
       "         'travel': 368,\n",
       "         'wall': 368,\n",
       "         'action': 368,\n",
       "         'children': 366,\n",
       "         'truth': 365,\n",
       "         'task': 364,\n",
       "         'shame': 364,\n",
       "         'fulli': 364,\n",
       "         'add': 364,\n",
       "         'provid': 362,\n",
       "         'behavior': 362,\n",
       "         'repli': 361,\n",
       "         'loser': 361,\n",
       "         'homeless': 361,\n",
       "         'scari': 360,\n",
       "         'schedul': 360,\n",
       "         'pandem': 358,\n",
       "         'histori': 358,\n",
       "         'somebodi': 358,\n",
       "         'rais': 357,\n",
       "         'view': 356,\n",
       "         'program': 356,\n",
       "         'valu': 354,\n",
       "         'heal': 354,\n",
       "         'passion': 354,\n",
       "         'bunch': 353,\n",
       "         'cloth': 351,\n",
       "         'main': 351,\n",
       "         'drain': 350,\n",
       "         'sibl': 349,\n",
       "         'session': 349,\n",
       "         'ass': 348,\n",
       "         'titl': 348,\n",
       "         'breakdown': 348,\n",
       "         'wrote': 347,\n",
       "         'apolog': 347,\n",
       "         'urg': 346,\n",
       "         'unless': 346,\n",
       "         'mix': 346,\n",
       "         'traumat': 346,\n",
       "         'heavi': 345,\n",
       "         'ocd': 345,\n",
       "         'detail': 345,\n",
       "         'tho': 345,\n",
       "         'soul': 345,\n",
       "         'wear': 344,\n",
       "         'restless': 343,\n",
       "         'repeat': 343,\n",
       "         'boy': 342,\n",
       "         'unfortun': 342,\n",
       "         'rent': 342,\n",
       "         'rate': 340,\n",
       "         'cool': 340,\n",
       "         'everybodi': 339,\n",
       "         'offic': 337,\n",
       "         'compar': 337,\n",
       "         'chronic': 337,\n",
       "         'black': 337,\n",
       "         'lower': 336,\n",
       "         'solut': 336,\n",
       "         'common': 336,\n",
       "         'carri': 336,\n",
       "         'hug': 335,\n",
       "         'race': 335,\n",
       "         'appear': 335,\n",
       "         'block': 335,\n",
       "         'search': 334,\n",
       "         'mei': 334,\n",
       "         'crush': 334,\n",
       "         'four': 331,\n",
       "         'relief': 330,\n",
       "         'invit': 330,\n",
       "         'lithium': 330,\n",
       "         'english': 329,\n",
       "         'media': 329,\n",
       "         'cheat': 329,\n",
       "         'stranger': 328,\n",
       "         'interview': 328,\n",
       "         'goodby': 328,\n",
       "         'excus': 328,\n",
       "         'abil': 326,\n",
       "         'http': 325,\n",
       "         'strang': 325,\n",
       "         'dread': 325,\n",
       "         'cowork': 324,\n",
       "         'divorc': 324,\n",
       "         'risk': 323,\n",
       "         'properli': 323,\n",
       "         'quiet': 323,\n",
       "         'public': 322,\n",
       "         'project': 322,\n",
       "         'earth': 322,\n",
       "         'men': 321,\n",
       "         'bf': 321,\n",
       "         'anim': 321,\n",
       "         'lucki': 321,\n",
       "         'bought': 319,\n",
       "         'app': 319,\n",
       "         'alot': 319,\n",
       "         ...})"
      ]
     },
     "execution_count": 59,
     "metadata": {},
     "output_type": "execute_result"
    }
   ],
   "source": [
    "vocab"
   ]
  },
  {
   "cell_type": "code",
   "execution_count": 61,
   "id": "7414f130-a948-48eb-9165-6f195ff781f7",
   "metadata": {},
   "outputs": [],
   "source": [
    "## check the length of vocabulary"
   ]
  },
  {
   "cell_type": "code",
   "execution_count": 62,
   "id": "9a4e4f7f-3a47-45c0-9130-8e778bd6b2c5",
   "metadata": {},
   "outputs": [
    {
     "data": {
      "text/plain": [
       "52368"
      ]
     },
     "execution_count": 62,
     "metadata": {},
     "output_type": "execute_result"
    }
   ],
   "source": [
    "len(vocab)"
   ]
  },
  {
   "cell_type": "code",
   "execution_count": 63,
   "id": "5aa5e7de-9cc9-4818-8705-db945db058aa",
   "metadata": {},
   "outputs": [],
   "source": [
    "## save the vocabulary"
   ]
  },
  {
   "cell_type": "code",
   "execution_count": 64,
   "id": "4df1805f-2d50-4088-8a6e-3df1cf0671a5",
   "metadata": {},
   "outputs": [],
   "source": [
    "def save_vocabulary(text, file_name):\n",
    "    data=\"\\n\".join(text)\n",
    "    file=open(file_name,'w',encoding='latin-1')\n",
    "    file.write(data)\n",
    "    file.close()\n",
    "save_vocabulary(vocab,'model/vocabulary.txt')"
   ]
  },
  {
   "cell_type": "code",
   "execution_count": 65,
   "id": "a8ad1994-ec7c-403e-8725-11f4a84c6160",
   "metadata": {},
   "outputs": [],
   "source": [
    "## seperate the target and independent variables from trainset"
   ]
  },
  {
   "cell_type": "code",
   "execution_count": 66,
   "id": "b9d6ab03-1b13-4d27-9b17-00139f6641d0",
   "metadata": {},
   "outputs": [],
   "source": [
    "x=new_train_set['statement']\n",
    "y=new_train_set['status']"
   ]
  },
  {
   "cell_type": "code",
   "execution_count": 67,
   "id": "40d885e4-977d-40fc-82d8-0f41ad143ff2",
   "metadata": {},
   "outputs": [
    {
     "data": {
      "text/plain": [
       "52275    make eye contact peopl realli struggl person a...\n",
       "49099    balanc school social life work balanc school w...\n",
       "10636                          weed made motiv happi motiv\n",
       "23796    cring past thought omg pain want die badli cri...\n",
       "48863                                                 mean\n",
       "Name: statement, dtype: object"
      ]
     },
     "execution_count": 67,
     "metadata": {},
     "output_type": "execute_result"
    }
   ],
   "source": [
    "x.head()"
   ]
  },
  {
   "cell_type": "code",
   "execution_count": 68,
   "id": "e504d3e9-53d1-489b-b004-fff695793e71",
   "metadata": {},
   "outputs": [
    {
     "data": {
      "text/plain": [
       "52275       Anxiety\n",
       "49099        Stress\n",
       "10636    Depression\n",
       "23796      Suicidal\n",
       "48863        Stress\n",
       "Name: status, dtype: object"
      ]
     },
     "execution_count": 68,
     "metadata": {},
     "output_type": "execute_result"
    }
   ],
   "source": [
    "y.head()"
   ]
  },
  {
   "cell_type": "code",
   "execution_count": null,
   "id": "0046a370-f2dc-4e5e-86fb-456ce3621e41",
   "metadata": {},
   "outputs": [],
   "source": []
  }
 ],
 "metadata": {
  "kernelspec": {
   "display_name": "Python 3 (ipykernel)",
   "language": "python",
   "name": "python3"
  },
  "language_info": {
   "codemirror_mode": {
    "name": "ipython",
    "version": 3
   },
   "file_extension": ".py",
   "mimetype": "text/x-python",
   "name": "python",
   "nbconvert_exporter": "python",
   "pygments_lexer": "ipython3",
   "version": "3.12.1"
  }
 },
 "nbformat": 4,
 "nbformat_minor": 5
}
